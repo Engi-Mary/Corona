{
 "cells": [
  {
   "cell_type": "code",
   "execution_count": 2,
   "metadata": {
    "extensions": {
     "jupyter_dashboards": {
      "version": 1,
      "views": {
       "grid_default": {},
       "report_default": {
        "hidden": true
       }
      }
     }
    }
   },
   "outputs": [],
   "source": [
    "import pandas as pd\n",
    "import numpy as np\n",
    "import seaborn as sns; sns.set()\n",
    "import matplotlib.pyplot as plt\n",
    "# %matplotlib notebook\n",
    "%matplotlib inline"
   ]
  },
  {
   "cell_type": "markdown",
   "metadata": {
    "extensions": {
     "jupyter_dashboards": {
      "version": 1,
      "views": {
       "grid_default": {},
       "report_default": {
        "hidden": false
       }
      }
     }
    }
   },
   "source": [
    "## Visualizing Corona Cases and Number of Deaths in each State in Germany (data available until 20.03.2020)\n",
    "### source: https://www.rki.de/DE/Content/InfAZ/N/Neuartiges_Coronavirus/Fallzahlen.html"
   ]
  },
  {
   "cell_type": "code",
   "execution_count": 3,
   "metadata": {
    "extensions": {
     "jupyter_dashboards": {
      "version": 1,
      "views": {
       "grid_default": {},
       "report_default": {
        "hidden": true
       }
      }
     }
    }
   },
   "outputs": [],
   "source": [
    "states = ['Baden-Württemberg','Bayern','Berlin','Brandenburg','Bremen','Hamburg','Hessen','Mecklenburg-Vorpommern',\n",
    "         'Niedersachsen','Nordrhein-Westfalen','Rheinland-Pfalz','Saarland','Sachsen','Sachsen-Anhalt',\n",
    "         'Schleswig-Holstein','Thüringen']\n",
    "\n",
    "num_of_cases = [3668,2960,866,254,142,587,1080,165,1023,3542,938,187,567,188,308,187]\n",
    "\n",
    "num_of_death = [16,19,1,0,0,0,2,0,0,6,1,0,0,1,1,0]"
   ]
  },
  {
   "cell_type": "code",
   "execution_count": 4,
   "metadata": {
    "extensions": {
     "jupyter_dashboards": {
      "version": 1,
      "views": {
       "grid_default": {},
       "report_default": {
        "hidden": true
       }
      }
     }
    }
   },
   "outputs": [],
   "source": [
    "data_dict = {'states':states, 'num_of_cases':num_of_cases, 'num_of_death':num_of_death}"
   ]
  },
  {
   "cell_type": "code",
   "execution_count": 5,
   "metadata": {
    "extensions": {
     "jupyter_dashboards": {
      "version": 1,
      "views": {
       "grid_default": {},
       "report_default": {
        "hidden": true
       }
      }
     }
    }
   },
   "outputs": [],
   "source": [
    "df = pd.DataFrame(data=data_dict)"
   ]
  },
  {
   "cell_type": "code",
   "execution_count": 6,
   "metadata": {
    "extensions": {
     "jupyter_dashboards": {
      "version": 1,
      "views": {
       "grid_default": {},
       "report_default": {
        "hidden": false
       }
      }
     }
    }
   },
   "outputs": [
    {
     "data": {
      "text/html": [
       "<div>\n",
       "<style scoped>\n",
       "    .dataframe tbody tr th:only-of-type {\n",
       "        vertical-align: middle;\n",
       "    }\n",
       "\n",
       "    .dataframe tbody tr th {\n",
       "        vertical-align: top;\n",
       "    }\n",
       "\n",
       "    .dataframe thead th {\n",
       "        text-align: right;\n",
       "    }\n",
       "</style>\n",
       "<table border=\"1\" class=\"dataframe\">\n",
       "  <thead>\n",
       "    <tr style=\"text-align: right;\">\n",
       "      <th></th>\n",
       "      <th>states</th>\n",
       "      <th>num_of_cases</th>\n",
       "      <th>num_of_death</th>\n",
       "    </tr>\n",
       "  </thead>\n",
       "  <tbody>\n",
       "    <tr>\n",
       "      <th>0</th>\n",
       "      <td>Baden-Württemberg</td>\n",
       "      <td>3668</td>\n",
       "      <td>16</td>\n",
       "    </tr>\n",
       "    <tr>\n",
       "      <th>1</th>\n",
       "      <td>Bayern</td>\n",
       "      <td>2960</td>\n",
       "      <td>19</td>\n",
       "    </tr>\n",
       "    <tr>\n",
       "      <th>2</th>\n",
       "      <td>Berlin</td>\n",
       "      <td>866</td>\n",
       "      <td>1</td>\n",
       "    </tr>\n",
       "    <tr>\n",
       "      <th>3</th>\n",
       "      <td>Brandenburg</td>\n",
       "      <td>254</td>\n",
       "      <td>0</td>\n",
       "    </tr>\n",
       "    <tr>\n",
       "      <th>4</th>\n",
       "      <td>Bremen</td>\n",
       "      <td>142</td>\n",
       "      <td>0</td>\n",
       "    </tr>\n",
       "  </tbody>\n",
       "</table>\n",
       "</div>"
      ],
      "text/plain": [
       "              states  num_of_cases  num_of_death\n",
       "0  Baden-Württemberg          3668            16\n",
       "1             Bayern          2960            19\n",
       "2             Berlin           866             1\n",
       "3        Brandenburg           254             0\n",
       "4             Bremen           142             0"
      ]
     },
     "execution_count": 6,
     "metadata": {},
     "output_type": "execute_result"
    }
   ],
   "source": [
    "df.head()"
   ]
  },
  {
   "cell_type": "code",
   "execution_count": 33,
   "metadata": {
    "extensions": {
     "jupyter_dashboards": {
      "version": 1,
      "views": {
       "grid_default": {},
       "report_default": {
        "hidden": false
       }
      }
     }
    }
   },
   "outputs": [
    {
     "data": {
      "image/png": "[encoded data removed]",
      "text/plain": [
       "<Figure size 1008x504 with 1 Axes>"
      ]
     },
     "metadata": {},
     "output_type": "display_data"
    }
   ],
   "source": [
    "plt.style.use('seaborn-white')\n",
    "\n",
    "fig = plt.figure()\n",
    "fig.suptitle('Corona Cases and Number of Deaths in each State in Germany\\n(data available until 20.3.2020)', fontsize=20,\n",
    "            weight='bold')\n",
    "fig.set_size_inches(14, 7, forward=True)\n",
    "\n",
    "plt.scatter(df['states'].values, df['num_of_cases'].values, s=100*df['num_of_death'].values, label='num_of_death',\n",
    "           c='red')\n",
    "\n",
    "plt.ylabel('Number of Cases', fontsize=15)\n",
    "plt.xlabel('States', fontsize=15)\n",
    "plt.gca()\n",
    "\n",
    "# plt.grid()\n",
    "# plt.gca().set_ylim(0)\n",
    "plt.xticks(rotation=20, fontsize=7.5)\n",
    "\n",
    "plt.yscale('symlog')\n",
    "plt.ylim(100, 6000)\n",
    "\n",
    "plt.legend(loc=\"upper right\", fontsize=12, markerscale=0.2)\n",
    "plt.savefig(\"cases.png\")\n",
    "plt.show()"
   ]
  },
  {
   "cell_type": "markdown",
   "metadata": {
    "extensions": {
     "jupyter_dashboards": {
      "version": 1,
      "views": {
       "grid_default": {},
       "report_default": {
        "hidden": false
       }
      }
     }
    }
   },
   "source": [
    "## Pie Chart for Corona Gender Portion in Germany (data available until 20.3.2020)\n",
    "### source: https://npgeo-corona-npgeo-de.hub.arcgis.com/datasets/dd4580c810204019a7b8eb3e0b329dd6_0/data?page=13"
   ]
  },
  {
   "cell_type": "code",
   "execution_count": 11,
   "metadata": {
    "extensions": {
     "jupyter_dashboards": {
      "version": 1,
      "views": {
       "grid_default": {},
       "report_default": {
        "hidden": true
       }
      }
     }
    }
   },
   "outputs": [],
   "source": [
    "file = pd.read_csv(\"RKI_COVID19.csv\")"
   ]
  },
  {
   "cell_type": "code",
   "execution_count": 12,
   "metadata": {
    "extensions": {
     "jupyter_dashboards": {
      "version": 1,
      "views": {
       "grid_default": {},
       "report_default": {
        "hidden": false
       }
      }
     }
    }
   },
   "outputs": [
    {
     "data": {
      "text/html": [
       "<div>\n",
       "<style scoped>\n",
       "    .dataframe tbody tr th:only-of-type {\n",
       "        vertical-align: middle;\n",
       "    }\n",
       "\n",
       "    .dataframe tbody tr th {\n",
       "        vertical-align: top;\n",
       "    }\n",
       "\n",
       "    .dataframe thead th {\n",
       "        text-align: right;\n",
       "    }\n",
       "</style>\n",
       "<table border=\"1\" class=\"dataframe\">\n",
       "  <thead>\n",
       "    <tr style=\"text-align: right;\">\n",
       "      <th></th>\n",
       "      <th>IdBundesland</th>\n",
       "      <th>Bundesland</th>\n",
       "      <th>Landkreis</th>\n",
       "      <th>Altersgruppe</th>\n",
       "      <th>Geschlecht</th>\n",
       "      <th>AnzahlFall</th>\n",
       "      <th>AnzahlTodesfall</th>\n",
       "      <th>ObjectId</th>\n",
       "      <th>Meldedatum</th>\n",
       "      <th>IdLandkreis</th>\n",
       "    </tr>\n",
       "  </thead>\n",
       "  <tbody>\n",
       "    <tr>\n",
       "      <th>0</th>\n",
       "      <td>15</td>\n",
       "      <td>Sachsen-Anhalt</td>\n",
       "      <td>SK Magdeburg</td>\n",
       "      <td>A35-A59</td>\n",
       "      <td>M</td>\n",
       "      <td>2</td>\n",
       "      <td>0</td>\n",
       "      <td>154936</td>\n",
       "      <td>2020-03-18T00:00:00.000Z</td>\n",
       "      <td>15003</td>\n",
       "    </tr>\n",
       "    <tr>\n",
       "      <th>1</th>\n",
       "      <td>15</td>\n",
       "      <td>Sachsen-Anhalt</td>\n",
       "      <td>SK Magdeburg</td>\n",
       "      <td>A35-A59</td>\n",
       "      <td>W</td>\n",
       "      <td>1</td>\n",
       "      <td>0</td>\n",
       "      <td>154937</td>\n",
       "      <td>2020-03-12T00:00:00.000Z</td>\n",
       "      <td>15003</td>\n",
       "    </tr>\n",
       "    <tr>\n",
       "      <th>2</th>\n",
       "      <td>15</td>\n",
       "      <td>Sachsen-Anhalt</td>\n",
       "      <td>SK Magdeburg</td>\n",
       "      <td>A35-A59</td>\n",
       "      <td>W</td>\n",
       "      <td>1</td>\n",
       "      <td>0</td>\n",
       "      <td>154938</td>\n",
       "      <td>2020-03-17T00:00:00.000Z</td>\n",
       "      <td>15003</td>\n",
       "    </tr>\n",
       "    <tr>\n",
       "      <th>3</th>\n",
       "      <td>15</td>\n",
       "      <td>Sachsen-Anhalt</td>\n",
       "      <td>SK Magdeburg</td>\n",
       "      <td>A60-A79</td>\n",
       "      <td>M</td>\n",
       "      <td>1</td>\n",
       "      <td>0</td>\n",
       "      <td>154939</td>\n",
       "      <td>2020-03-10T00:00:00.000Z</td>\n",
       "      <td>15003</td>\n",
       "    </tr>\n",
       "    <tr>\n",
       "      <th>4</th>\n",
       "      <td>15</td>\n",
       "      <td>Sachsen-Anhalt</td>\n",
       "      <td>SK Magdeburg</td>\n",
       "      <td>A60-A79</td>\n",
       "      <td>M</td>\n",
       "      <td>1</td>\n",
       "      <td>0</td>\n",
       "      <td>154940</td>\n",
       "      <td>2020-03-19T00:00:00.000Z</td>\n",
       "      <td>15003</td>\n",
       "    </tr>\n",
       "  </tbody>\n",
       "</table>\n",
       "</div>"
      ],
      "text/plain": [
       "   IdBundesland      Bundesland     Landkreis Altersgruppe Geschlecht  \\\n",
       "0            15  Sachsen-Anhalt  SK Magdeburg      A35-A59          M   \n",
       "1            15  Sachsen-Anhalt  SK Magdeburg      A35-A59          W   \n",
       "2            15  Sachsen-Anhalt  SK Magdeburg      A35-A59          W   \n",
       "3            15  Sachsen-Anhalt  SK Magdeburg      A60-A79          M   \n",
       "4            15  Sachsen-Anhalt  SK Magdeburg      A60-A79          M   \n",
       "\n",
       "   AnzahlFall  AnzahlTodesfall  ObjectId                Meldedatum IdLandkreis  \n",
       "0           2                0    154936  2020-03-18T00:00:00.000Z       15003  \n",
       "1           1                0    154937  2020-03-12T00:00:00.000Z       15003  \n",
       "2           1                0    154938  2020-03-17T00:00:00.000Z       15003  \n",
       "3           1                0    154939  2020-03-10T00:00:00.000Z       15003  \n",
       "4           1                0    154940  2020-03-19T00:00:00.000Z       15003  "
      ]
     },
     "execution_count": 12,
     "metadata": {},
     "output_type": "execute_result"
    }
   ],
   "source": [
    "file.head()"
   ]
  },
  {
   "cell_type": "code",
   "execution_count": 13,
   "metadata": {
    "extensions": {
     "jupyter_dashboards": {
      "version": 1,
      "views": {
       "grid_default": {},
       "report_default": {
        "hidden": true
       }
      }
     }
    }
   },
   "outputs": [],
   "source": [
    "m = file[file['Geschlecht']=='M'].count().unique()\n",
    "w = file[file['Geschlecht']=='W'].count().unique()\n",
    "u = file[file['Geschlecht']=='unbekannt'].count().unique()"
   ]
  },
  {
   "cell_type": "code",
   "execution_count": 14,
   "metadata": {
    "extensions": {
     "jupyter_dashboards": {
      "version": 1,
      "views": {
       "grid_default": {},
       "report_default": {
        "hidden": true
       }
      }
     }
    }
   },
   "outputs": [
    {
     "name": "stderr",
     "output_type": "stream",
     "text": [
      "/home/engimary/.local/lib/python3.6/site-packages/ipykernel_launcher.py:1: DeprecationWarning: np.asscalar(a) is deprecated since NumPy v1.16, use a.item() instead\n",
      "  \"\"\"Entry point for launching an IPython kernel.\n",
      "/home/engimary/.local/lib/python3.6/site-packages/ipykernel_launcher.py:2: DeprecationWarning: np.asscalar(a) is deprecated since NumPy v1.16, use a.item() instead\n",
      "  \n",
      "/home/engimary/.local/lib/python3.6/site-packages/ipykernel_launcher.py:3: DeprecationWarning: np.asscalar(a) is deprecated since NumPy v1.16, use a.item() instead\n",
      "  This is separate from the ipykernel package so we can avoid doing imports until\n"
     ]
    }
   ],
   "source": [
    "w = np.asscalar(w)\n",
    "m = np.asscalar(m)\n",
    "u = np.asscalar(u)"
   ]
  },
  {
   "cell_type": "code",
   "execution_count": 15,
   "metadata": {
    "extensions": {
     "jupyter_dashboards": {
      "version": 1,
      "views": {
       "grid_default": {},
       "report_default": {
        "hidden": true
       }
      }
     }
    }
   },
   "outputs": [
    {
     "name": "stdout",
     "output_type": "stream",
     "text": [
      "num of female:  3715\n",
      "\n",
      "num of male:  4471\n",
      "\n",
      "num of unknown:  46\n"
     ]
    }
   ],
   "source": [
    "print(\"num of female: \", w)\n",
    "print(\"\\nnum of male: \", m)\n",
    "print(\"\\nnum of unknown: \", u)"
   ]
  },
  {
   "cell_type": "code",
   "execution_count": 16,
   "metadata": {
    "extensions": {
     "jupyter_dashboards": {
      "version": 1,
      "views": {
       "grid_default": {},
       "report_default": {
        "hidden": true
       }
      }
     }
    }
   },
   "outputs": [],
   "source": [
    "def perc(gender):\n",
    "    if gender == 'w':\n",
    "        percentage = (w*100)/(len(file.index))\n",
    "        percentage = np.round_(percentage, decimals=2)\n",
    "\n",
    "    elif gender == 'm':\n",
    "        percentage = (m*100)/(len(file.index))\n",
    "        percentage = np.round_(percentage, decimals=2)\n",
    "\n",
    "    else:\n",
    "        percentage = (u*100)/(len(file.index))\n",
    "        percentage = np.round_(percentage, decimals=2)\n",
    "    return percentage\n",
    "    \n",
    "\n",
    "female_percentage = perc('w')\n",
    "male_percentage = perc('m')\n",
    "unknown_percentage = perc('u')"
   ]
  },
  {
   "cell_type": "code",
   "execution_count": 17,
   "metadata": {
    "extensions": {
     "jupyter_dashboards": {
      "version": 1,
      "views": {
       "grid_default": {},
       "report_default": {
        "hidden": false
       }
      }
     }
    }
   },
   "outputs": [
    {
     "data": {
      "image/png": "[encoded data removed]",
      "text/plain": [
       "<Figure size 1008x504 with 1 Axes>"
      ]
     },
     "metadata": {},
     "output_type": "display_data"
    }
   ],
   "source": [
    "labels = ['female', 'male', 'unknown']\n",
    "sizes = [female_percentage, male_percentage, unknown_percentage]\n",
    "colors = ['yellowgreen', 'lightcoral', 'lightskyblue']\n",
    "\n",
    "\n",
    "fig, ax = plt.subplots()\n",
    "ax.set_title('Corona Gender Portion\\n(data available until 20.03.2020)', fontsize=20, weight='bold')\n",
    "fig.set_size_inches(14, 7, forward=True)\n",
    "\n",
    "wedges, texts, autotexts = ax.pie(sizes, autopct='%1.1f%%', startangle=45, colors=colors)\n",
    "\n",
    "legend = ax.legend(wedges, labels,\n",
    "          title=\"Gender\",\n",
    "          loc=\"center left\",\n",
    "          bbox_to_anchor=(0.9, 0, 0, 1), fontsize=14)\n",
    "\n",
    "plt.setp(autotexts, size=12, weight=\"bold\")\n",
    "legend.get_title().set_fontsize('16') \n",
    "\n",
    "ax.axis('equal')  \n",
    "plt.savefig(\"gender.png\")\n",
    "\n",
    "plt.show()"
   ]
  },
  {
   "cell_type": "markdown",
   "metadata": {
    "extensions": {
     "jupyter_dashboards": {
      "version": 1,
      "views": {
       "grid_default": {},
       "report_default": {
        "hidden": false
       }
      }
     }
    }
   },
   "source": [
    "## Bar Chart for Comparison between Age of current Patients and Dead ones in Germany (data available until 20.3.2020)\n",
    "### source: https://npgeo-corona-npgeo-de.hub.arcgis.com/datasets/dd4580c810204019a7b8eb3e0b329dd6_0/data?page=13\n"
   ]
  },
  {
   "cell_type": "code",
   "execution_count": 18,
   "metadata": {
    "extensions": {
     "jupyter_dashboards": {
      "version": 1,
      "views": {
       "grid_default": {},
       "report_default": {
        "hidden": true
       }
      }
     }
    }
   },
   "outputs": [
    {
     "data": {
      "text/plain": [
       "array(['A35-A59', 'A60-A79', 'A80+', 'A15-A34', 'A05-A14', 'unbekannt',\n",
       "       'A00-A04'], dtype=object)"
      ]
     },
     "execution_count": 18,
     "metadata": {},
     "output_type": "execute_result"
    }
   ],
   "source": [
    "age = file['Altersgruppe'].unique()\n",
    "age"
   ]
  },
  {
   "cell_type": "code",
   "execution_count": 19,
   "metadata": {
    "extensions": {
     "jupyter_dashboards": {
      "version": 1,
      "views": {
       "grid_default": {},
       "report_default": {
        "hidden": true
       }
      }
     }
    }
   },
   "outputs": [
    {
     "name": "stderr",
     "output_type": "stream",
     "text": [
      "/home/engimary/.local/lib/python3.6/site-packages/ipykernel_launcher.py:2: DeprecationWarning: np.asscalar(a) is deprecated since NumPy v1.16, use a.item() instead\n",
      "  \n",
      "/home/engimary/anaconda3/envs/hannovermesse2020/lib/python3.6/site-packages/numpy/lib/type_check.py:581: FutureWarning: `item` has been deprecated and will be removed in a future version\n",
      "  return a.item()\n",
      "/home/engimary/.local/lib/python3.6/site-packages/ipykernel_launcher.py:4: DeprecationWarning: np.asscalar(a) is deprecated since NumPy v1.16, use a.item() instead\n",
      "  after removing the cwd from sys.path.\n",
      "/home/engimary/.local/lib/python3.6/site-packages/ipykernel_launcher.py:6: DeprecationWarning: np.asscalar(a) is deprecated since NumPy v1.16, use a.item() instead\n",
      "  \n",
      "/home/engimary/.local/lib/python3.6/site-packages/ipykernel_launcher.py:8: DeprecationWarning: np.asscalar(a) is deprecated since NumPy v1.16, use a.item() instead\n",
      "  \n",
      "/home/engimary/.local/lib/python3.6/site-packages/ipykernel_launcher.py:10: DeprecationWarning: np.asscalar(a) is deprecated since NumPy v1.16, use a.item() instead\n",
      "  # Remove the CWD from sys.path while we load stuff.\n",
      "/home/engimary/.local/lib/python3.6/site-packages/ipykernel_launcher.py:12: DeprecationWarning: np.asscalar(a) is deprecated since NumPy v1.16, use a.item() instead\n",
      "  if sys.path[0] == '':\n",
      "/home/engimary/.local/lib/python3.6/site-packages/ipykernel_launcher.py:14: DeprecationWarning: np.asscalar(a) is deprecated since NumPy v1.16, use a.item() instead\n",
      "  \n"
     ]
    }
   ],
   "source": [
    "g0_4 = file[file['Altersgruppe']=='A00-A04'].filter(items=['AnzahlFall']).sum()\n",
    "g0_4 = np.asscalar(g0_4)\n",
    "g5_14 = file[file['Altersgruppe']=='A05-A14'].filter(items=['AnzahlFall']).sum()\n",
    "g5_14 = np.asscalar(g5_14)\n",
    "g15_34 = file[file['Altersgruppe']=='A15-A34'].filter(items=['AnzahlFall']).sum()\n",
    "g15_34 = np.asscalar(g15_34)\n",
    "g35_59 = file[file['Altersgruppe']=='A35-A59'].filter(items=['AnzahlFall']).sum()\n",
    "g35_59 = np.asscalar(g35_59)\n",
    "g60_79 = file[file['Altersgruppe']=='A60-A79'].filter(items=['AnzahlFall']).sum()\n",
    "g60_79 = np.asscalar(g60_79)\n",
    "g80 = file[file['Altersgruppe']=='A80+'].filter(items=['AnzahlFall']).sum()\n",
    "g80 = np.asscalar(g80)\n",
    "unknown = file[file['Altersgruppe']=='unbekannt'].filter(items=['AnzahlFall']).sum()\n",
    "unknown = np.asscalar(unknown)\n",
    "\n",
    "height1 = [g0_4,g5_14,g15_34,g35_59,g60_79,g80,unknown]"
   ]
  },
  {
   "cell_type": "code",
   "execution_count": 20,
   "metadata": {
    "extensions": {
     "jupyter_dashboards": {
      "version": 1,
      "views": {
       "grid_default": {},
       "report_default": {
        "hidden": true
       }
      }
     }
    }
   },
   "outputs": [
    {
     "name": "stderr",
     "output_type": "stream",
     "text": [
      "/home/engimary/.local/lib/python3.6/site-packages/ipykernel_launcher.py:2: DeprecationWarning: np.asscalar(a) is deprecated since NumPy v1.16, use a.item() instead\n",
      "  \n",
      "/home/engimary/.local/lib/python3.6/site-packages/ipykernel_launcher.py:4: DeprecationWarning: np.asscalar(a) is deprecated since NumPy v1.16, use a.item() instead\n",
      "  after removing the cwd from sys.path.\n",
      "/home/engimary/.local/lib/python3.6/site-packages/ipykernel_launcher.py:6: DeprecationWarning: np.asscalar(a) is deprecated since NumPy v1.16, use a.item() instead\n",
      "  \n",
      "/home/engimary/.local/lib/python3.6/site-packages/ipykernel_launcher.py:8: DeprecationWarning: np.asscalar(a) is deprecated since NumPy v1.16, use a.item() instead\n",
      "  \n",
      "/home/engimary/.local/lib/python3.6/site-packages/ipykernel_launcher.py:10: DeprecationWarning: np.asscalar(a) is deprecated since NumPy v1.16, use a.item() instead\n",
      "  # Remove the CWD from sys.path while we load stuff.\n",
      "/home/engimary/.local/lib/python3.6/site-packages/ipykernel_launcher.py:12: DeprecationWarning: np.asscalar(a) is deprecated since NumPy v1.16, use a.item() instead\n",
      "  if sys.path[0] == '':\n",
      "/home/engimary/.local/lib/python3.6/site-packages/ipykernel_launcher.py:14: DeprecationWarning: np.asscalar(a) is deprecated since NumPy v1.16, use a.item() instead\n",
      "  \n"
     ]
    }
   ],
   "source": [
    "g0_4 = file[file['Altersgruppe']=='A00-A04'].filter(items=['AnzahlTodesfall']).sum()\n",
    "g0_4 = np.asscalar(g0_4)\n",
    "g5_14 = file[file['Altersgruppe']=='A05-A14'].filter(items=['AnzahlTodesfall']).sum()\n",
    "g5_14 = np.asscalar(g5_14)\n",
    "g15_34 = file[file['Altersgruppe']=='A15-A34'].filter(items=['AnzahlTodesfall']).sum()\n",
    "g15_34 = np.asscalar(g15_34)\n",
    "g35_59 = file[file['Altersgruppe']=='A35-A59'].filter(items=['AnzahlTodesfall']).sum()\n",
    "g35_59 = np.asscalar(g35_59)\n",
    "g60_79 = file[file['Altersgruppe']=='A60-A79'].filter(items=['AnzahlTodesfall']).sum()\n",
    "g60_79 = np.asscalar(g60_79)\n",
    "g80 = file[file['Altersgruppe']=='A80+'].filter(items=['AnzahlTodesfall']).sum()\n",
    "g80 = np.asscalar(g80)\n",
    "unknown = file[file['Altersgruppe']=='unbekannt'].filter(items=['AnzahlTodesfall']).sum()\n",
    "unknown = np.asscalar(unknown)\n",
    "\n",
    "height2 = [g0_4,g5_14,g15_34,g35_59,g60_79,g80,unknown]"
   ]
  },
  {
   "cell_type": "code",
   "execution_count": 21,
   "metadata": {
    "extensions": {
     "jupyter_dashboards": {
      "version": 1,
      "views": {
       "grid_default": {},
       "report_default": {
        "hidden": false
       }
      }
     }
    }
   },
   "outputs": [
    {
     "data": {
      "image/png": "[encoded data removed]",
      "text/plain": [
       "<Figure size 1008x504 with 1 Axes>"
      ]
     },
     "metadata": {},
     "output_type": "display_data"
    }
   ],
   "source": [
    "fig = plt.figure()\n",
    "fig.set_size_inches(14,7, forward=True)\n",
    "fig.suptitle(\"Comparison between Age of current Patients and Deads\\n(data available until 20.03.2020)\", fontsize=20, weight='bold')\n",
    "\n",
    "bar_width = 0.7\n",
    "\n",
    "plt.bar(x=np.sort(file['Altersgruppe'].unique()), height=height1, width=bar_width, color='green', label='patients')\n",
    "\n",
    "plt.bar(x=np.sort(file['Altersgruppe'].unique()), height=height2, width=bar_width, color='orange', label= 'dead')\n",
    "\n",
    "plt.ylabel('Number', fontsize=15)\n",
    "plt.xlabel('Age Groups', fontsize=15)\n",
    "plt.gca()\n",
    "\n",
    "plt.xticks(rotation=20, fontsize=12)\n",
    "\n",
    "# plt.yscale('log')\n",
    "# plt.ylim(0, 5000)\n",
    "\n",
    "plt.legend(loc=\"upper right\", fontsize=12, markerscale=0.2)\n",
    "plt.savefig(\"patients_vs_dead.png\")\n",
    "plt.show()"
   ]
  },
  {
   "cell_type": "markdown",
   "metadata": {
    "extensions": {
     "jupyter_dashboards": {
      "version": 1,
      "views": {
       "grid_default": {},
       "report_default": {
        "hidden": false
       }
      }
     }
    }
   },
   "source": [
    "## Heatmap to show Corona cases in all states of Germany (data available until 20.3.2020)\n",
    "### source: https://npgeo-corona-npgeo-de.hub.arcgis.com/datasets/dd4580c810204019a7b8eb3e0b329dd6_0/data?page=13\n"
   ]
  },
  {
   "cell_type": "code",
   "execution_count": 22,
   "metadata": {
    "extensions": {
     "jupyter_dashboards": {
      "version": 1,
      "views": {
       "grid_default": {},
       "report_default": {
        "hidden": true
       }
      }
     }
    }
   },
   "outputs": [
    {
     "data": {
      "text/plain": [
       "17"
      ]
     },
     "execution_count": 22,
     "metadata": {},
     "output_type": "execute_result"
    }
   ],
   "source": [
    "file['Bundesland'].nunique()"
   ]
  },
  {
   "cell_type": "code",
   "execution_count": 23,
   "metadata": {
    "extensions": {
     "jupyter_dashboards": {
      "version": 1,
      "views": {
       "grid_default": {},
       "report_default": {
        "hidden": true
       }
      }
     }
    }
   },
   "outputs": [],
   "source": [
    "file['Meldedatum'] = pd.to_datetime(file['Meldedatum'])"
   ]
  },
  {
   "cell_type": "code",
   "execution_count": 24,
   "metadata": {
    "extensions": {
     "jupyter_dashboards": {
      "version": 1,
      "views": {
       "grid_default": {},
       "report_default": {
        "hidden": true
       }
      }
     }
    }
   },
   "outputs": [],
   "source": [
    "file['Date'] = file['Meldedatum'].dt.date"
   ]
  },
  {
   "cell_type": "code",
   "execution_count": 25,
   "metadata": {
    "extensions": {
     "jupyter_dashboards": {
      "version": 1,
      "views": {
       "grid_default": {},
       "report_default": {
        "hidden": true
       }
      }
     }
    }
   },
   "outputs": [],
   "source": [
    "# date_table_agg = file.groupby(['Bundesland','Date']).agg(['sum']).reset_index()\n",
    "# date_table_agg = date_table_agg.drop(['Lat','Long'],1)\n",
    "table = file.groupby(['Bundesland','Date'])['AnzahlFall'].sum().reset_index()"
   ]
  },
  {
   "cell_type": "code",
   "execution_count": 26,
   "metadata": {
    "extensions": {
     "jupyter_dashboards": {
      "version": 1,
      "views": {
       "grid_default": {},
       "report_default": {
        "hidden": true
       }
      }
     }
    }
   },
   "outputs": [
    {
     "data": {
      "text/html": [
       "<div>\n",
       "<style scoped>\n",
       "    .dataframe tbody tr th:only-of-type {\n",
       "        vertical-align: middle;\n",
       "    }\n",
       "\n",
       "    .dataframe tbody tr th {\n",
       "        vertical-align: top;\n",
       "    }\n",
       "\n",
       "    .dataframe thead th {\n",
       "        text-align: right;\n",
       "    }\n",
       "</style>\n",
       "<table border=\"1\" class=\"dataframe\">\n",
       "  <thead>\n",
       "    <tr style=\"text-align: right;\">\n",
       "      <th></th>\n",
       "      <th>Bundesland</th>\n",
       "      <th>Date</th>\n",
       "      <th>AnzahlFall</th>\n",
       "    </tr>\n",
       "  </thead>\n",
       "  <tbody>\n",
       "    <tr>\n",
       "      <th>0</th>\n",
       "      <td>-nicht erhoben-</td>\n",
       "      <td>2020-03-19</td>\n",
       "      <td>1</td>\n",
       "    </tr>\n",
       "    <tr>\n",
       "      <th>1</th>\n",
       "      <td>-nicht erhoben-</td>\n",
       "      <td>2020-03-20</td>\n",
       "      <td>1</td>\n",
       "    </tr>\n",
       "    <tr>\n",
       "      <th>2</th>\n",
       "      <td>Baden-Württemberg</td>\n",
       "      <td>2020-02-25</td>\n",
       "      <td>2</td>\n",
       "    </tr>\n",
       "    <tr>\n",
       "      <th>3</th>\n",
       "      <td>Baden-Württemberg</td>\n",
       "      <td>2020-02-26</td>\n",
       "      <td>5</td>\n",
       "    </tr>\n",
       "    <tr>\n",
       "      <th>4</th>\n",
       "      <td>Baden-Württemberg</td>\n",
       "      <td>2020-02-27</td>\n",
       "      <td>2</td>\n",
       "    </tr>\n",
       "    <tr>\n",
       "      <th>...</th>\n",
       "      <td>...</td>\n",
       "      <td>...</td>\n",
       "      <td>...</td>\n",
       "    </tr>\n",
       "    <tr>\n",
       "      <th>288</th>\n",
       "      <td>Thüringen</td>\n",
       "      <td>2020-03-16</td>\n",
       "      <td>13</td>\n",
       "    </tr>\n",
       "    <tr>\n",
       "      <th>289</th>\n",
       "      <td>Thüringen</td>\n",
       "      <td>2020-03-17</td>\n",
       "      <td>24</td>\n",
       "    </tr>\n",
       "    <tr>\n",
       "      <th>290</th>\n",
       "      <td>Thüringen</td>\n",
       "      <td>2020-03-18</td>\n",
       "      <td>28</td>\n",
       "    </tr>\n",
       "    <tr>\n",
       "      <th>291</th>\n",
       "      <td>Thüringen</td>\n",
       "      <td>2020-03-19</td>\n",
       "      <td>38</td>\n",
       "    </tr>\n",
       "    <tr>\n",
       "      <th>292</th>\n",
       "      <td>Thüringen</td>\n",
       "      <td>2020-03-20</td>\n",
       "      <td>35</td>\n",
       "    </tr>\n",
       "  </tbody>\n",
       "</table>\n",
       "<p>293 rows × 3 columns</p>\n",
       "</div>"
      ],
      "text/plain": [
       "            Bundesland        Date  AnzahlFall\n",
       "0      -nicht erhoben-  2020-03-19           1\n",
       "1      -nicht erhoben-  2020-03-20           1\n",
       "2    Baden-Württemberg  2020-02-25           2\n",
       "3    Baden-Württemberg  2020-02-26           5\n",
       "4    Baden-Württemberg  2020-02-27           2\n",
       "..                 ...         ...         ...\n",
       "288          Thüringen  2020-03-16          13\n",
       "289          Thüringen  2020-03-17          24\n",
       "290          Thüringen  2020-03-18          28\n",
       "291          Thüringen  2020-03-19          38\n",
       "292          Thüringen  2020-03-20          35\n",
       "\n",
       "[293 rows x 3 columns]"
      ]
     },
     "execution_count": 26,
     "metadata": {},
     "output_type": "execute_result"
    }
   ],
   "source": [
    "table"
   ]
  },
  {
   "cell_type": "code",
   "execution_count": 27,
   "metadata": {
    "extensions": {
     "jupyter_dashboards": {
      "version": 1,
      "views": {
       "grid_default": {},
       "report_default": {
        "hidden": true
       }
      }
     }
    }
   },
   "outputs": [
    {
     "data": {
      "text/html": [
       "<div>\n",
       "<style scoped>\n",
       "    .dataframe tbody tr th:only-of-type {\n",
       "        vertical-align: middle;\n",
       "    }\n",
       "\n",
       "    .dataframe tbody tr th {\n",
       "        vertical-align: top;\n",
       "    }\n",
       "\n",
       "    .dataframe thead th {\n",
       "        text-align: right;\n",
       "    }\n",
       "</style>\n",
       "<table border=\"1\" class=\"dataframe\">\n",
       "  <thead>\n",
       "    <tr style=\"text-align: right;\">\n",
       "      <th>Date</th>\n",
       "      <th>2020-01-28</th>\n",
       "      <th>2020-01-29</th>\n",
       "      <th>2020-01-31</th>\n",
       "      <th>2020-02-03</th>\n",
       "      <th>2020-02-04</th>\n",
       "      <th>2020-02-06</th>\n",
       "      <th>2020-02-07</th>\n",
       "      <th>2020-02-11</th>\n",
       "      <th>2020-02-12</th>\n",
       "      <th>2020-02-25</th>\n",
       "      <th>...</th>\n",
       "      <th>2020-03-11</th>\n",
       "      <th>2020-03-12</th>\n",
       "      <th>2020-03-13</th>\n",
       "      <th>2020-03-14</th>\n",
       "      <th>2020-03-15</th>\n",
       "      <th>2020-03-16</th>\n",
       "      <th>2020-03-17</th>\n",
       "      <th>2020-03-18</th>\n",
       "      <th>2020-03-19</th>\n",
       "      <th>2020-03-20</th>\n",
       "    </tr>\n",
       "    <tr>\n",
       "      <th>Bundesland</th>\n",
       "      <th></th>\n",
       "      <th></th>\n",
       "      <th></th>\n",
       "      <th></th>\n",
       "      <th></th>\n",
       "      <th></th>\n",
       "      <th></th>\n",
       "      <th></th>\n",
       "      <th></th>\n",
       "      <th></th>\n",
       "      <th></th>\n",
       "      <th></th>\n",
       "      <th></th>\n",
       "      <th></th>\n",
       "      <th></th>\n",
       "      <th></th>\n",
       "      <th></th>\n",
       "      <th></th>\n",
       "      <th></th>\n",
       "      <th></th>\n",
       "      <th></th>\n",
       "    </tr>\n",
       "  </thead>\n",
       "  <tbody>\n",
       "    <tr>\n",
       "      <th>-nicht erhoben-</th>\n",
       "      <td>NaN</td>\n",
       "      <td>NaN</td>\n",
       "      <td>NaN</td>\n",
       "      <td>NaN</td>\n",
       "      <td>NaN</td>\n",
       "      <td>NaN</td>\n",
       "      <td>NaN</td>\n",
       "      <td>NaN</td>\n",
       "      <td>NaN</td>\n",
       "      <td>NaN</td>\n",
       "      <td>...</td>\n",
       "      <td>NaN</td>\n",
       "      <td>NaN</td>\n",
       "      <td>NaN</td>\n",
       "      <td>NaN</td>\n",
       "      <td>NaN</td>\n",
       "      <td>NaN</td>\n",
       "      <td>NaN</td>\n",
       "      <td>NaN</td>\n",
       "      <td>1.0</td>\n",
       "      <td>1.0</td>\n",
       "    </tr>\n",
       "    <tr>\n",
       "      <th>Baden-Württemberg</th>\n",
       "      <td>NaN</td>\n",
       "      <td>NaN</td>\n",
       "      <td>NaN</td>\n",
       "      <td>NaN</td>\n",
       "      <td>NaN</td>\n",
       "      <td>NaN</td>\n",
       "      <td>NaN</td>\n",
       "      <td>NaN</td>\n",
       "      <td>NaN</td>\n",
       "      <td>2.0</td>\n",
       "      <td>...</td>\n",
       "      <td>137.0</td>\n",
       "      <td>174.0</td>\n",
       "      <td>294.0</td>\n",
       "      <td>323.0</td>\n",
       "      <td>159.0</td>\n",
       "      <td>394.0</td>\n",
       "      <td>566.0</td>\n",
       "      <td>696.0</td>\n",
       "      <td>461.0</td>\n",
       "      <td>106.0</td>\n",
       "    </tr>\n",
       "    <tr>\n",
       "      <th>Bayern</th>\n",
       "      <td>2.0</td>\n",
       "      <td>2.0</td>\n",
       "      <td>3.0</td>\n",
       "      <td>1.0</td>\n",
       "      <td>2.0</td>\n",
       "      <td>1.0</td>\n",
       "      <td>1.0</td>\n",
       "      <td>2.0</td>\n",
       "      <td>1.0</td>\n",
       "      <td>NaN</td>\n",
       "      <td>...</td>\n",
       "      <td>101.0</td>\n",
       "      <td>115.0</td>\n",
       "      <td>230.0</td>\n",
       "      <td>180.0</td>\n",
       "      <td>113.0</td>\n",
       "      <td>205.0</td>\n",
       "      <td>394.0</td>\n",
       "      <td>517.0</td>\n",
       "      <td>467.0</td>\n",
       "      <td>325.0</td>\n",
       "    </tr>\n",
       "    <tr>\n",
       "      <th>Berlin</th>\n",
       "      <td>NaN</td>\n",
       "      <td>NaN</td>\n",
       "      <td>NaN</td>\n",
       "      <td>NaN</td>\n",
       "      <td>NaN</td>\n",
       "      <td>NaN</td>\n",
       "      <td>NaN</td>\n",
       "      <td>NaN</td>\n",
       "      <td>NaN</td>\n",
       "      <td>NaN</td>\n",
       "      <td>...</td>\n",
       "      <td>43.0</td>\n",
       "      <td>47.0</td>\n",
       "      <td>59.0</td>\n",
       "      <td>29.0</td>\n",
       "      <td>25.0</td>\n",
       "      <td>60.0</td>\n",
       "      <td>96.0</td>\n",
       "      <td>144.0</td>\n",
       "      <td>181.0</td>\n",
       "      <td>92.0</td>\n",
       "    </tr>\n",
       "    <tr>\n",
       "      <th>Brandenburg</th>\n",
       "      <td>NaN</td>\n",
       "      <td>NaN</td>\n",
       "      <td>NaN</td>\n",
       "      <td>NaN</td>\n",
       "      <td>NaN</td>\n",
       "      <td>NaN</td>\n",
       "      <td>NaN</td>\n",
       "      <td>NaN</td>\n",
       "      <td>NaN</td>\n",
       "      <td>NaN</td>\n",
       "      <td>...</td>\n",
       "      <td>8.0</td>\n",
       "      <td>20.0</td>\n",
       "      <td>20.0</td>\n",
       "      <td>13.0</td>\n",
       "      <td>20.0</td>\n",
       "      <td>21.0</td>\n",
       "      <td>48.0</td>\n",
       "      <td>35.0</td>\n",
       "      <td>42.0</td>\n",
       "      <td>7.0</td>\n",
       "    </tr>\n",
       "    <tr>\n",
       "      <th>Bremen</th>\n",
       "      <td>NaN</td>\n",
       "      <td>NaN</td>\n",
       "      <td>NaN</td>\n",
       "      <td>NaN</td>\n",
       "      <td>NaN</td>\n",
       "      <td>NaN</td>\n",
       "      <td>NaN</td>\n",
       "      <td>NaN</td>\n",
       "      <td>NaN</td>\n",
       "      <td>NaN</td>\n",
       "      <td>...</td>\n",
       "      <td>11.0</td>\n",
       "      <td>7.0</td>\n",
       "      <td>10.0</td>\n",
       "      <td>3.0</td>\n",
       "      <td>3.0</td>\n",
       "      <td>1.0</td>\n",
       "      <td>12.0</td>\n",
       "      <td>10.0</td>\n",
       "      <td>41.0</td>\n",
       "      <td>22.0</td>\n",
       "    </tr>\n",
       "    <tr>\n",
       "      <th>Hamburg</th>\n",
       "      <td>NaN</td>\n",
       "      <td>NaN</td>\n",
       "      <td>NaN</td>\n",
       "      <td>NaN</td>\n",
       "      <td>NaN</td>\n",
       "      <td>NaN</td>\n",
       "      <td>NaN</td>\n",
       "      <td>NaN</td>\n",
       "      <td>NaN</td>\n",
       "      <td>NaN</td>\n",
       "      <td>...</td>\n",
       "      <td>27.0</td>\n",
       "      <td>40.0</td>\n",
       "      <td>30.0</td>\n",
       "      <td>73.0</td>\n",
       "      <td>72.0</td>\n",
       "      <td>66.0</td>\n",
       "      <td>106.0</td>\n",
       "      <td>80.0</td>\n",
       "      <td>30.0</td>\n",
       "      <td>NaN</td>\n",
       "    </tr>\n",
       "    <tr>\n",
       "      <th>Hessen</th>\n",
       "      <td>NaN</td>\n",
       "      <td>NaN</td>\n",
       "      <td>NaN</td>\n",
       "      <td>NaN</td>\n",
       "      <td>NaN</td>\n",
       "      <td>NaN</td>\n",
       "      <td>NaN</td>\n",
       "      <td>NaN</td>\n",
       "      <td>NaN</td>\n",
       "      <td>NaN</td>\n",
       "      <td>...</td>\n",
       "      <td>34.0</td>\n",
       "      <td>36.0</td>\n",
       "      <td>68.0</td>\n",
       "      <td>72.0</td>\n",
       "      <td>24.0</td>\n",
       "      <td>117.0</td>\n",
       "      <td>156.0</td>\n",
       "      <td>200.0</td>\n",
       "      <td>181.0</td>\n",
       "      <td>137.0</td>\n",
       "    </tr>\n",
       "    <tr>\n",
       "      <th>Mecklenburg-Vorpommern</th>\n",
       "      <td>NaN</td>\n",
       "      <td>NaN</td>\n",
       "      <td>NaN</td>\n",
       "      <td>NaN</td>\n",
       "      <td>NaN</td>\n",
       "      <td>NaN</td>\n",
       "      <td>NaN</td>\n",
       "      <td>NaN</td>\n",
       "      <td>NaN</td>\n",
       "      <td>NaN</td>\n",
       "      <td>...</td>\n",
       "      <td>8.0</td>\n",
       "      <td>9.0</td>\n",
       "      <td>8.0</td>\n",
       "      <td>1.0</td>\n",
       "      <td>1.0</td>\n",
       "      <td>14.0</td>\n",
       "      <td>31.0</td>\n",
       "      <td>43.0</td>\n",
       "      <td>32.0</td>\n",
       "      <td>7.0</td>\n",
       "    </tr>\n",
       "    <tr>\n",
       "      <th>Niedersachsen</th>\n",
       "      <td>NaN</td>\n",
       "      <td>NaN</td>\n",
       "      <td>NaN</td>\n",
       "      <td>NaN</td>\n",
       "      <td>1.0</td>\n",
       "      <td>NaN</td>\n",
       "      <td>NaN</td>\n",
       "      <td>NaN</td>\n",
       "      <td>NaN</td>\n",
       "      <td>NaN</td>\n",
       "      <td>...</td>\n",
       "      <td>52.0</td>\n",
       "      <td>65.0</td>\n",
       "      <td>81.0</td>\n",
       "      <td>57.0</td>\n",
       "      <td>48.0</td>\n",
       "      <td>126.0</td>\n",
       "      <td>128.0</td>\n",
       "      <td>187.0</td>\n",
       "      <td>139.0</td>\n",
       "      <td>55.0</td>\n",
       "    </tr>\n",
       "    <tr>\n",
       "      <th>Nordrhein-Westfalen</th>\n",
       "      <td>NaN</td>\n",
       "      <td>NaN</td>\n",
       "      <td>NaN</td>\n",
       "      <td>NaN</td>\n",
       "      <td>NaN</td>\n",
       "      <td>NaN</td>\n",
       "      <td>NaN</td>\n",
       "      <td>NaN</td>\n",
       "      <td>NaN</td>\n",
       "      <td>NaN</td>\n",
       "      <td>...</td>\n",
       "      <td>184.0</td>\n",
       "      <td>264.0</td>\n",
       "      <td>372.0</td>\n",
       "      <td>295.0</td>\n",
       "      <td>215.0</td>\n",
       "      <td>535.0</td>\n",
       "      <td>634.0</td>\n",
       "      <td>377.0</td>\n",
       "      <td>3.0</td>\n",
       "      <td>1.0</td>\n",
       "    </tr>\n",
       "    <tr>\n",
       "      <th>Rheinland-Pfalz</th>\n",
       "      <td>NaN</td>\n",
       "      <td>NaN</td>\n",
       "      <td>NaN</td>\n",
       "      <td>NaN</td>\n",
       "      <td>NaN</td>\n",
       "      <td>NaN</td>\n",
       "      <td>NaN</td>\n",
       "      <td>NaN</td>\n",
       "      <td>NaN</td>\n",
       "      <td>NaN</td>\n",
       "      <td>...</td>\n",
       "      <td>28.0</td>\n",
       "      <td>58.0</td>\n",
       "      <td>57.0</td>\n",
       "      <td>49.0</td>\n",
       "      <td>95.0</td>\n",
       "      <td>110.0</td>\n",
       "      <td>162.0</td>\n",
       "      <td>154.0</td>\n",
       "      <td>118.0</td>\n",
       "      <td>69.0</td>\n",
       "    </tr>\n",
       "    <tr>\n",
       "      <th>Saarland</th>\n",
       "      <td>NaN</td>\n",
       "      <td>NaN</td>\n",
       "      <td>NaN</td>\n",
       "      <td>NaN</td>\n",
       "      <td>NaN</td>\n",
       "      <td>NaN</td>\n",
       "      <td>NaN</td>\n",
       "      <td>NaN</td>\n",
       "      <td>NaN</td>\n",
       "      <td>NaN</td>\n",
       "      <td>...</td>\n",
       "      <td>10.0</td>\n",
       "      <td>12.0</td>\n",
       "      <td>10.0</td>\n",
       "      <td>13.0</td>\n",
       "      <td>17.0</td>\n",
       "      <td>17.0</td>\n",
       "      <td>15.0</td>\n",
       "      <td>25.0</td>\n",
       "      <td>30.0</td>\n",
       "      <td>30.0</td>\n",
       "    </tr>\n",
       "    <tr>\n",
       "      <th>Sachsen</th>\n",
       "      <td>NaN</td>\n",
       "      <td>NaN</td>\n",
       "      <td>NaN</td>\n",
       "      <td>NaN</td>\n",
       "      <td>NaN</td>\n",
       "      <td>NaN</td>\n",
       "      <td>NaN</td>\n",
       "      <td>NaN</td>\n",
       "      <td>NaN</td>\n",
       "      <td>NaN</td>\n",
       "      <td>...</td>\n",
       "      <td>13.0</td>\n",
       "      <td>27.0</td>\n",
       "      <td>32.0</td>\n",
       "      <td>29.0</td>\n",
       "      <td>25.0</td>\n",
       "      <td>40.0</td>\n",
       "      <td>80.0</td>\n",
       "      <td>111.0</td>\n",
       "      <td>134.0</td>\n",
       "      <td>42.0</td>\n",
       "    </tr>\n",
       "    <tr>\n",
       "      <th>Sachsen-Anhalt</th>\n",
       "      <td>NaN</td>\n",
       "      <td>NaN</td>\n",
       "      <td>NaN</td>\n",
       "      <td>NaN</td>\n",
       "      <td>NaN</td>\n",
       "      <td>NaN</td>\n",
       "      <td>NaN</td>\n",
       "      <td>NaN</td>\n",
       "      <td>NaN</td>\n",
       "      <td>NaN</td>\n",
       "      <td>...</td>\n",
       "      <td>15.0</td>\n",
       "      <td>14.0</td>\n",
       "      <td>11.0</td>\n",
       "      <td>2.0</td>\n",
       "      <td>NaN</td>\n",
       "      <td>35.0</td>\n",
       "      <td>29.0</td>\n",
       "      <td>38.0</td>\n",
       "      <td>38.0</td>\n",
       "      <td>NaN</td>\n",
       "    </tr>\n",
       "    <tr>\n",
       "      <th>Schleswig-Holstein</th>\n",
       "      <td>NaN</td>\n",
       "      <td>NaN</td>\n",
       "      <td>NaN</td>\n",
       "      <td>NaN</td>\n",
       "      <td>NaN</td>\n",
       "      <td>NaN</td>\n",
       "      <td>NaN</td>\n",
       "      <td>NaN</td>\n",
       "      <td>NaN</td>\n",
       "      <td>NaN</td>\n",
       "      <td>...</td>\n",
       "      <td>18.0</td>\n",
       "      <td>17.0</td>\n",
       "      <td>25.0</td>\n",
       "      <td>24.0</td>\n",
       "      <td>20.0</td>\n",
       "      <td>22.0</td>\n",
       "      <td>38.0</td>\n",
       "      <td>44.0</td>\n",
       "      <td>47.0</td>\n",
       "      <td>35.0</td>\n",
       "    </tr>\n",
       "    <tr>\n",
       "      <th>Thüringen</th>\n",
       "      <td>NaN</td>\n",
       "      <td>NaN</td>\n",
       "      <td>NaN</td>\n",
       "      <td>NaN</td>\n",
       "      <td>NaN</td>\n",
       "      <td>NaN</td>\n",
       "      <td>NaN</td>\n",
       "      <td>NaN</td>\n",
       "      <td>NaN</td>\n",
       "      <td>NaN</td>\n",
       "      <td>...</td>\n",
       "      <td>1.0</td>\n",
       "      <td>11.0</td>\n",
       "      <td>10.0</td>\n",
       "      <td>16.0</td>\n",
       "      <td>NaN</td>\n",
       "      <td>13.0</td>\n",
       "      <td>24.0</td>\n",
       "      <td>28.0</td>\n",
       "      <td>38.0</td>\n",
       "      <td>35.0</td>\n",
       "    </tr>\n",
       "  </tbody>\n",
       "</table>\n",
       "<p>17 rows × 34 columns</p>\n",
       "</div>"
      ],
      "text/plain": [
       "Date                    2020-01-28  2020-01-29  2020-01-31  2020-02-03  \\\n",
       "Bundesland                                                               \n",
       "-nicht erhoben-                NaN         NaN         NaN         NaN   \n",
       "Baden-Württemberg              NaN         NaN         NaN         NaN   \n",
       "Bayern                         2.0         2.0         3.0         1.0   \n",
       "Berlin                         NaN         NaN         NaN         NaN   \n",
       "Brandenburg                    NaN         NaN         NaN         NaN   \n",
       "Bremen                         NaN         NaN         NaN         NaN   \n",
       "Hamburg                        NaN         NaN         NaN         NaN   \n",
       "Hessen                         NaN         NaN         NaN         NaN   \n",
       "Mecklenburg-Vorpommern         NaN         NaN         NaN         NaN   \n",
       "Niedersachsen                  NaN         NaN         NaN         NaN   \n",
       "Nordrhein-Westfalen            NaN         NaN         NaN         NaN   \n",
       "Rheinland-Pfalz                NaN         NaN         NaN         NaN   \n",
       "Saarland                       NaN         NaN         NaN         NaN   \n",
       "Sachsen                        NaN         NaN         NaN         NaN   \n",
       "Sachsen-Anhalt                 NaN         NaN         NaN         NaN   \n",
       "Schleswig-Holstein             NaN         NaN         NaN         NaN   \n",
       "Thüringen                      NaN         NaN         NaN         NaN   \n",
       "\n",
       "Date                    2020-02-04  2020-02-06  2020-02-07  2020-02-11  \\\n",
       "Bundesland                                                               \n",
       "-nicht erhoben-                NaN         NaN         NaN         NaN   \n",
       "Baden-Württemberg              NaN         NaN         NaN         NaN   \n",
       "Bayern                         2.0         1.0         1.0         2.0   \n",
       "Berlin                         NaN         NaN         NaN         NaN   \n",
       "Brandenburg                    NaN         NaN         NaN         NaN   \n",
       "Bremen                         NaN         NaN         NaN         NaN   \n",
       "Hamburg                        NaN         NaN         NaN         NaN   \n",
       "Hessen                         NaN         NaN         NaN         NaN   \n",
       "Mecklenburg-Vorpommern         NaN         NaN         NaN         NaN   \n",
       "Niedersachsen                  1.0         NaN         NaN         NaN   \n",
       "Nordrhein-Westfalen            NaN         NaN         NaN         NaN   \n",
       "Rheinland-Pfalz                NaN         NaN         NaN         NaN   \n",
       "Saarland                       NaN         NaN         NaN         NaN   \n",
       "Sachsen                        NaN         NaN         NaN         NaN   \n",
       "Sachsen-Anhalt                 NaN         NaN         NaN         NaN   \n",
       "Schleswig-Holstein             NaN         NaN         NaN         NaN   \n",
       "Thüringen                      NaN         NaN         NaN         NaN   \n",
       "\n",
       "Date                    2020-02-12  2020-02-25  ...  2020-03-11  2020-03-12  \\\n",
       "Bundesland                                      ...                           \n",
       "-nicht erhoben-                NaN         NaN  ...         NaN         NaN   \n",
       "Baden-Württemberg              NaN         2.0  ...       137.0       174.0   \n",
       "Bayern                         1.0         NaN  ...       101.0       115.0   \n",
       "Berlin                         NaN         NaN  ...        43.0        47.0   \n",
       "Brandenburg                    NaN         NaN  ...         8.0        20.0   \n",
       "Bremen                         NaN         NaN  ...        11.0         7.0   \n",
       "Hamburg                        NaN         NaN  ...        27.0        40.0   \n",
       "Hessen                         NaN         NaN  ...        34.0        36.0   \n",
       "Mecklenburg-Vorpommern         NaN         NaN  ...         8.0         9.0   \n",
       "Niedersachsen                  NaN         NaN  ...        52.0        65.0   \n",
       "Nordrhein-Westfalen            NaN         NaN  ...       184.0       264.0   \n",
       "Rheinland-Pfalz                NaN         NaN  ...        28.0        58.0   \n",
       "Saarland                       NaN         NaN  ...        10.0        12.0   \n",
       "Sachsen                        NaN         NaN  ...        13.0        27.0   \n",
       "Sachsen-Anhalt                 NaN         NaN  ...        15.0        14.0   \n",
       "Schleswig-Holstein             NaN         NaN  ...        18.0        17.0   \n",
       "Thüringen                      NaN         NaN  ...         1.0        11.0   \n",
       "\n",
       "Date                    2020-03-13  2020-03-14  2020-03-15  2020-03-16  \\\n",
       "Bundesland                                                               \n",
       "-nicht erhoben-                NaN         NaN         NaN         NaN   \n",
       "Baden-Württemberg            294.0       323.0       159.0       394.0   \n",
       "Bayern                       230.0       180.0       113.0       205.0   \n",
       "Berlin                        59.0        29.0        25.0        60.0   \n",
       "Brandenburg                   20.0        13.0        20.0        21.0   \n",
       "Bremen                        10.0         3.0         3.0         1.0   \n",
       "Hamburg                       30.0        73.0        72.0        66.0   \n",
       "Hessen                        68.0        72.0        24.0       117.0   \n",
       "Mecklenburg-Vorpommern         8.0         1.0         1.0        14.0   \n",
       "Niedersachsen                 81.0        57.0        48.0       126.0   \n",
       "Nordrhein-Westfalen          372.0       295.0       215.0       535.0   \n",
       "Rheinland-Pfalz               57.0        49.0        95.0       110.0   \n",
       "Saarland                      10.0        13.0        17.0        17.0   \n",
       "Sachsen                       32.0        29.0        25.0        40.0   \n",
       "Sachsen-Anhalt                11.0         2.0         NaN        35.0   \n",
       "Schleswig-Holstein            25.0        24.0        20.0        22.0   \n",
       "Thüringen                     10.0        16.0         NaN        13.0   \n",
       "\n",
       "Date                    2020-03-17  2020-03-18  2020-03-19  2020-03-20  \n",
       "Bundesland                                                              \n",
       "-nicht erhoben-                NaN         NaN         1.0         1.0  \n",
       "Baden-Württemberg            566.0       696.0       461.0       106.0  \n",
       "Bayern                       394.0       517.0       467.0       325.0  \n",
       "Berlin                        96.0       144.0       181.0        92.0  \n",
       "Brandenburg                   48.0        35.0        42.0         7.0  \n",
       "Bremen                        12.0        10.0        41.0        22.0  \n",
       "Hamburg                      106.0        80.0        30.0         NaN  \n",
       "Hessen                       156.0       200.0       181.0       137.0  \n",
       "Mecklenburg-Vorpommern        31.0        43.0        32.0         7.0  \n",
       "Niedersachsen                128.0       187.0       139.0        55.0  \n",
       "Nordrhein-Westfalen          634.0       377.0         3.0         1.0  \n",
       "Rheinland-Pfalz              162.0       154.0       118.0        69.0  \n",
       "Saarland                      15.0        25.0        30.0        30.0  \n",
       "Sachsen                       80.0       111.0       134.0        42.0  \n",
       "Sachsen-Anhalt                29.0        38.0        38.0         NaN  \n",
       "Schleswig-Holstein            38.0        44.0        47.0        35.0  \n",
       "Thüringen                     24.0        28.0        38.0        35.0  \n",
       "\n",
       "[17 rows x 34 columns]"
      ]
     },
     "execution_count": 27,
     "metadata": {},
     "output_type": "execute_result"
    }
   ],
   "source": [
    "states_pivot_table = pd.pivot_table(table, values='AnzahlFall', columns=['Date'], index=['Bundesland'])\n",
    "states_pivot_table"
   ]
  },
  {
   "cell_type": "code",
   "execution_count": 28,
   "metadata": {
    "extensions": {
     "jupyter_dashboards": {
      "version": 1,
      "views": {
       "grid_default": {},
       "report_default": {
        "hidden": false
       }
      }
     }
    }
   },
   "outputs": [
    {
     "data": {
      "image/png": "[encoded data removed]",
      "text/plain": [
       "<Figure size 1008x504 with 2 Axes>"
      ]
     },
     "metadata": {},
     "output_type": "display_data"
    }
   ],
   "source": [
    "plt.style.use('seaborn-white')\n",
    "fig, ax = plt.subplots(figsize=(14,7))        \n",
    "ax.set_title(\"Corona Cases in States of Germany \\n(data available until 20.03.2020)\", size=20, weight='bold')\n",
    "sns.set(font_scale=1.2)\n",
    "\n",
    "ax = sns.heatmap(states_pivot_table, cmap='plasma', ax=ax, cbar_kws={'label': 'Number of Patients'})\n",
    "borders = range(1,18)\n",
    "ax.hlines(borders[:], color='white', *ax.get_xlim())\n",
    "\n",
    "plt.subplots_adjust(left=0.16, bottom=0.12, top=0.9)\n",
    "ax.set_xlabel('Timestamp',fontsize=18)\n",
    "ax.set_ylabel('States',fontsize=18)\n",
    "\n",
    "plt.savefig(\"heatmap.png\")\n"
   ]
  },
  {
   "cell_type": "code",
   "execution_count": null,
   "metadata": {
    "extensions": {
     "jupyter_dashboards": {
      "version": 1,
      "views": {
       "grid_default": {},
       "report_default": {
        "hidden": true
       }
      }
     }
    }
   },
   "outputs": [],
   "source": []
  }
 ],
 "metadata": {
  "extensions": {
   "jupyter_dashboards": {
    "activeView": "report_default",
    "version": 1,
    "views": {
     "grid_default": {
      "cellMargin": 10,
      "defaultCellHeight": 20,
      "maxColumns": 12,
      "name": "grid",
      "type": "grid"
     },
     "report_default": {
      "name": "report",
      "type": "report"
     }
    }
   }
  },
  "kernelspec": {
   "display_name": "Python 3",
   "language": "python",
   "name": "python3"
  },
  "language_info": {
   "codemirror_mode": {
    "name": "ipython",
    "version": 3
   },
   "file_extension": ".py",
   "mimetype": "text/x-python",
   "name": "python",
   "nbconvert_exporter": "python",
   "pygments_lexer": "ipython3",
   "version": "3.6.6"
  }
 },
 "nbformat": 4,
 "nbformat_minor": 4
}
