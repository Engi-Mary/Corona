{
 "cells": [
  {
   "cell_type": "code",
   "execution_count": 1,
   "metadata": {
    "extensions": {
     "jupyter_dashboards": {
      "version": 1,
      "views": {
       "grid_default": {},
       "report_default": {
        "hidden": true
       }
      }
     }
    }
   },
   "outputs": [],
   "source": [
    "import pandas as pd\n",
    "import numpy as np\n",
    "# import seaborn as sns; sns.set()\n",
    "import matplotlib.pyplot as plt\n",
    "%matplotlib notebook\n",
    "# %matplotlib inline"
   ]
  },
  {
   "cell_type": "code",
   "execution_count": 2,
   "metadata": {
    "extensions": {
     "jupyter_dashboards": {
      "version": 1,
      "views": {
       "grid_default": {},
       "report_default": {
        "hidden": true
       }
      }
     }
    }
   },
   "outputs": [],
   "source": [
    "states = ['Baden-Württemberg','Bayern','Berlin','Brandenburg','Bremen','Hamburg','Hessen','Mecklenburg-Vorpommern',\n",
    "         'Niedersachsen','Nordrhein-Westfalen','Rheinland-Pfalz','Saarland','Sachsen','Sachsen-Anhalt',\n",
    "         'Schleswig-Holstein','Thüringen']\n",
    "\n",
    "num_of_cases = [3668,2960,866,254,142,587,1080,165,1023,3542,938,187,567,188,308,187]\n",
    "\n",
    "num_of_death = [16,19,1,0,0,0,2,0,0,6,1,0,0,1,1,0]"
   ]
  },
  {
   "cell_type": "code",
   "execution_count": 3,
   "metadata": {
    "extensions": {
     "jupyter_dashboards": {
      "version": 1,
      "views": {
       "grid_default": {},
       "report_default": {
        "hidden": true
       }
      }
     }
    }
   },
   "outputs": [],
   "source": [
    "data_dict = {'states':states, 'num_of_cases':num_of_cases, 'num_of_death':num_of_death}"
   ]
  },
  {
   "cell_type": "code",
   "execution_count": 4,
   "metadata": {
    "extensions": {
     "jupyter_dashboards": {
      "version": 1,
      "views": {
       "grid_default": {},
       "report_default": {
        "hidden": true
       }
      }
     }
    }
   },
   "outputs": [],
   "source": [
    "df = pd.DataFrame(data=data_dict)"
   ]
  },
  {
   "cell_type": "code",
   "execution_count": null,
   "metadata": {
    "extensions": {
     "jupyter_dashboards": {
      "version": 1,
      "views": {
       "grid_default": {},
       "report_default": {
        "hidden": false
       }
      }
     }
    }
   },
   "outputs": [],
   "source": [
    "df.head()"
   ]
  },
  {
   "cell_type": "code",
   "execution_count": 5,
   "metadata": {
    "extensions": {
     "jupyter_dashboards": {
      "version": 1,
      "views": {
       "grid_default": {},
       "report_default": {
        "hidden": false
       }
      }
     }
    }
   },
   "outputs": [
    {
     "data": {
      "application/javascript": [
       "/* Put everything inside the global mpl namespace */\n",
       "window.mpl = {};\n",
       "\n",
       "\n",
       "mpl.get_websocket_type = function() {\n",
       "    if (typeof(WebSocket) !== 'undefined') {\n",
       "        return WebSocket;\n",
       "    } else if (typeof(MozWebSocket) !== 'undefined') {\n",
       "        return MozWebSocket;\n",
       "    } else {\n",
       "        alert('Your browser does not have WebSocket support. ' +\n",
       "              'Please try Chrome, Safari or Firefox ≥ 6. ' +\n",
       "              'Firefox 4 and 5 are also supported but you ' +\n",
       "              'have to enable WebSockets in about:config.');\n",
       "    };\n",
       "}\n",
       "\n",
       "mpl.figure = function(figure_id, websocket, ondownload, parent_element) {\n",
       "    this.id = figure_id;\n",
       "\n",
       "    this.ws = websocket;\n",
       "\n",
       "    this.supports_binary = (this.ws.binaryType != undefined);\n",
       "\n",
       "    if (!this.supports_binary) {\n",
       "        var warnings = document.getElementById(\"mpl-warnings\");\n",
       "        if (warnings) {\n",
       "            warnings.style.display = 'block';\n",
       "            warnings.textContent = (\n",
       "                \"This browser does not support binary websocket messages. \" +\n",
       "                    \"Performance may be slow.\");\n",
       "        }\n",
       "    }\n",
       "\n",
       "    this.imageObj = new Image();\n",
       "\n",
       "    this.context = undefined;\n",
       "    this.message = undefined;\n",
       "    this.canvas = undefined;\n",
       "    this.rubberband_canvas = undefined;\n",
       "    this.rubberband_context = undefined;\n",
       "    this.format_dropdown = undefined;\n",
       "\n",
       "    this.image_mode = 'full';\n",
       "\n",
       "    this.root = $('<div/>');\n",
       "    this._root_extra_style(this.root)\n",
       "    this.root.attr('style', 'display: inline-block');\n",
       "\n",
       "    $(parent_element).append(this.root);\n",
       "\n",
       "    this._init_header(this);\n",
       "    this._init_canvas(this);\n",
       "    this._init_toolbar(this);\n",
       "\n",
       "    var fig = this;\n",
       "\n",
       "    this.waiting = false;\n",
       "\n",
       "    this.ws.onopen =  function () {\n",
       "            fig.send_message(\"supports_binary\", {value: fig.supports_binary});\n",
       "            fig.send_message(\"send_image_mode\", {});\n",
       "            if (mpl.ratio != 1) {\n",
       "                fig.send_message(\"set_dpi_ratio\", {'dpi_ratio': mpl.ratio});\n",
       "            }\n",
       "            fig.send_message(\"refresh\", {});\n",
       "        }\n",
       "\n",
       "    this.imageObj.onload = function() {\n",
       "            if (fig.image_mode == 'full') {\n",
       "                // Full images could contain transparency (where diff images\n",
       "                // almost always do), so we need to clear the canvas so that\n",
       "                // there is no ghosting.\n",
       "                fig.context.clearRect(0, 0, fig.canvas.width, fig.canvas.height);\n",
       "            }\n",
       "            fig.context.drawImage(fig.imageObj, 0, 0);\n",
       "        };\n",
       "\n",
       "    this.imageObj.onunload = function() {\n",
       "        fig.ws.close();\n",
       "    }\n",
       "\n",
       "    this.ws.onmessage = this._make_on_message_function(this);\n",
       "\n",
       "    this.ondownload = ondownload;\n",
       "}\n",
       "\n",
       "mpl.figure.prototype._init_header = function() {\n",
       "    var titlebar = $(\n",
       "        '<div class=\"ui-dialog-titlebar ui-widget-header ui-corner-all ' +\n",
       "        'ui-helper-clearfix\"/>');\n",
       "    var titletext = $(\n",
       "        '<div class=\"ui-dialog-title\" style=\"width: 100%; ' +\n",
       "        'text-align: center; padding: 3px;\"/>');\n",
       "    titlebar.append(titletext)\n",
       "    this.root.append(titlebar);\n",
       "    this.header = titletext[0];\n",
       "}\n",
       "\n",
       "\n",
       "\n",
       "mpl.figure.prototype._canvas_extra_style = function(canvas_div) {\n",
       "\n",
       "}\n",
       "\n",
       "\n",
       "mpl.figure.prototype._root_extra_style = function(canvas_div) {\n",
       "\n",
       "}\n",
       "\n",
       "mpl.figure.prototype._init_canvas = function() {\n",
       "    var fig = this;\n",
       "\n",
       "    var canvas_div = $('<div/>');\n",
       "\n",
       "    canvas_div.attr('style', 'position: relative; clear: both; outline: 0');\n",
       "\n",
       "    function canvas_keyboard_event(event) {\n",
       "        return fig.key_event(event, event['data']);\n",
       "    }\n",
       "\n",
       "    canvas_div.keydown('key_press', canvas_keyboard_event);\n",
       "    canvas_div.keyup('key_release', canvas_keyboard_event);\n",
       "    this.canvas_div = canvas_div\n",
       "    this._canvas_extra_style(canvas_div)\n",
       "    this.root.append(canvas_div);\n",
       "\n",
       "    var canvas = $('<canvas/>');\n",
       "    canvas.addClass('mpl-canvas');\n",
       "    canvas.attr('style', \"left: 0; top: 0; z-index: 0; outline: 0\")\n",
       "\n",
       "    this.canvas = canvas[0];\n",
       "    this.context = canvas[0].getContext(\"2d\");\n",
       "\n",
       "    var backingStore = this.context.backingStorePixelRatio ||\n",
       "\tthis.context.webkitBackingStorePixelRatio ||\n",
       "\tthis.context.mozBackingStorePixelRatio ||\n",
       "\tthis.context.msBackingStorePixelRatio ||\n",
       "\tthis.context.oBackingStorePixelRatio ||\n",
       "\tthis.context.backingStorePixelRatio || 1;\n",
       "\n",
       "    mpl.ratio = (window.devicePixelRatio || 1) / backingStore;\n",
       "\n",
       "    var rubberband = $('<canvas/>');\n",
       "    rubberband.attr('style', \"position: absolute; left: 0; top: 0; z-index: 1;\")\n",
       "\n",
       "    var pass_mouse_events = true;\n",
       "\n",
       "    canvas_div.resizable({\n",
       "        start: function(event, ui) {\n",
       "            pass_mouse_events = false;\n",
       "        },\n",
       "        resize: function(event, ui) {\n",
       "            fig.request_resize(ui.size.width, ui.size.height);\n",
       "        },\n",
       "        stop: function(event, ui) {\n",
       "            pass_mouse_events = true;\n",
       "            fig.request_resize(ui.size.width, ui.size.height);\n",
       "        },\n",
       "    });\n",
       "\n",
       "    function mouse_event_fn(event) {\n",
       "        if (pass_mouse_events)\n",
       "            return fig.mouse_event(event, event['data']);\n",
       "    }\n",
       "\n",
       "    rubberband.mousedown('button_press', mouse_event_fn);\n",
       "    rubberband.mouseup('button_release', mouse_event_fn);\n",
       "    // Throttle sequential mouse events to 1 every 20ms.\n",
       "    rubberband.mousemove('motion_notify', mouse_event_fn);\n",
       "\n",
       "    rubberband.mouseenter('figure_enter', mouse_event_fn);\n",
       "    rubberband.mouseleave('figure_leave', mouse_event_fn);\n",
       "\n",
       "    canvas_div.on(\"wheel\", function (event) {\n",
       "        event = event.originalEvent;\n",
       "        event['data'] = 'scroll'\n",
       "        if (event.deltaY < 0) {\n",
       "            event.step = 1;\n",
       "        } else {\n",
       "            event.step = -1;\n",
       "        }\n",
       "        mouse_event_fn(event);\n",
       "    });\n",
       "\n",
       "    canvas_div.append(canvas);\n",
       "    canvas_div.append(rubberband);\n",
       "\n",
       "    this.rubberband = rubberband;\n",
       "    this.rubberband_canvas = rubberband[0];\n",
       "    this.rubberband_context = rubberband[0].getContext(\"2d\");\n",
       "    this.rubberband_context.strokeStyle = \"#000000\";\n",
       "\n",
       "    this._resize_canvas = function(width, height) {\n",
       "        // Keep the size of the canvas, canvas container, and rubber band\n",
       "        // canvas in synch.\n",
       "        canvas_div.css('width', width)\n",
       "        canvas_div.css('height', height)\n",
       "\n",
       "        canvas.attr('width', width * mpl.ratio);\n",
       "        canvas.attr('height', height * mpl.ratio);\n",
       "        canvas.attr('style', 'width: ' + width + 'px; height: ' + height + 'px;');\n",
       "\n",
       "        rubberband.attr('width', width);\n",
       "        rubberband.attr('height', height);\n",
       "    }\n",
       "\n",
       "    // Set the figure to an initial 600x600px, this will subsequently be updated\n",
       "    // upon first draw.\n",
       "    this._resize_canvas(600, 600);\n",
       "\n",
       "    // Disable right mouse context menu.\n",
       "    $(this.rubberband_canvas).bind(\"contextmenu\",function(e){\n",
       "        return false;\n",
       "    });\n",
       "\n",
       "    function set_focus () {\n",
       "        canvas.focus();\n",
       "        canvas_div.focus();\n",
       "    }\n",
       "\n",
       "    window.setTimeout(set_focus, 100);\n",
       "}\n",
       "\n",
       "mpl.figure.prototype._init_toolbar = function() {\n",
       "    var fig = this;\n",
       "\n",
       "    var nav_element = $('<div/>');\n",
       "    nav_element.attr('style', 'width: 100%');\n",
       "    this.root.append(nav_element);\n",
       "\n",
       "    // Define a callback function for later on.\n",
       "    function toolbar_event(event) {\n",
       "        return fig.toolbar_button_onclick(event['data']);\n",
       "    }\n",
       "    function toolbar_mouse_event(event) {\n",
       "        return fig.toolbar_button_onmouseover(event['data']);\n",
       "    }\n",
       "\n",
       "    for(var toolbar_ind in mpl.toolbar_items) {\n",
       "        var name = mpl.toolbar_items[toolbar_ind][0];\n",
       "        var tooltip = mpl.toolbar_items[toolbar_ind][1];\n",
       "        var image = mpl.toolbar_items[toolbar_ind][2];\n",
       "        var method_name = mpl.toolbar_items[toolbar_ind][3];\n",
       "\n",
       "        if (!name) {\n",
       "            // put a spacer in here.\n",
       "            continue;\n",
       "        }\n",
       "        var button = $('<button/>');\n",
       "        button.addClass('ui-button ui-widget ui-state-default ui-corner-all ' +\n",
       "                        'ui-button-icon-only');\n",
       "        button.attr('role', 'button');\n",
       "        button.attr('aria-disabled', 'false');\n",
       "        button.click(method_name, toolbar_event);\n",
       "        button.mouseover(tooltip, toolbar_mouse_event);\n",
       "\n",
       "        var icon_img = $('<span/>');\n",
       "        icon_img.addClass('ui-button-icon-primary ui-icon');\n",
       "        icon_img.addClass(image);\n",
       "        icon_img.addClass('ui-corner-all');\n",
       "\n",
       "        var tooltip_span = $('<span/>');\n",
       "        tooltip_span.addClass('ui-button-text');\n",
       "        tooltip_span.html(tooltip);\n",
       "\n",
       "        button.append(icon_img);\n",
       "        button.append(tooltip_span);\n",
       "\n",
       "        nav_element.append(button);\n",
       "    }\n",
       "\n",
       "    var fmt_picker_span = $('<span/>');\n",
       "\n",
       "    var fmt_picker = $('<select/>');\n",
       "    fmt_picker.addClass('mpl-toolbar-option ui-widget ui-widget-content');\n",
       "    fmt_picker_span.append(fmt_picker);\n",
       "    nav_element.append(fmt_picker_span);\n",
       "    this.format_dropdown = fmt_picker[0];\n",
       "\n",
       "    for (var ind in mpl.extensions) {\n",
       "        var fmt = mpl.extensions[ind];\n",
       "        var option = $(\n",
       "            '<option/>', {selected: fmt === mpl.default_extension}).html(fmt);\n",
       "        fmt_picker.append(option);\n",
       "    }\n",
       "\n",
       "    // Add hover states to the ui-buttons\n",
       "    $( \".ui-button\" ).hover(\n",
       "        function() { $(this).addClass(\"ui-state-hover\");},\n",
       "        function() { $(this).removeClass(\"ui-state-hover\");}\n",
       "    );\n",
       "\n",
       "    var status_bar = $('<span class=\"mpl-message\"/>');\n",
       "    nav_element.append(status_bar);\n",
       "    this.message = status_bar[0];\n",
       "}\n",
       "\n",
       "mpl.figure.prototype.request_resize = function(x_pixels, y_pixels) {\n",
       "    // Request matplotlib to resize the figure. Matplotlib will then trigger a resize in the client,\n",
       "    // which will in turn request a refresh of the image.\n",
       "    this.send_message('resize', {'width': x_pixels, 'height': y_pixels});\n",
       "}\n",
       "\n",
       "mpl.figure.prototype.send_message = function(type, properties) {\n",
       "    properties['type'] = type;\n",
       "    properties['figure_id'] = this.id;\n",
       "    this.ws.send(JSON.stringify(properties));\n",
       "}\n",
       "\n",
       "mpl.figure.prototype.send_draw_message = function() {\n",
       "    if (!this.waiting) {\n",
       "        this.waiting = true;\n",
       "        this.ws.send(JSON.stringify({type: \"draw\", figure_id: this.id}));\n",
       "    }\n",
       "}\n",
       "\n",
       "\n",
       "mpl.figure.prototype.handle_save = function(fig, msg) {\n",
       "    var format_dropdown = fig.format_dropdown;\n",
       "    var format = format_dropdown.options[format_dropdown.selectedIndex].value;\n",
       "    fig.ondownload(fig, format);\n",
       "}\n",
       "\n",
       "\n",
       "mpl.figure.prototype.handle_resize = function(fig, msg) {\n",
       "    var size = msg['size'];\n",
       "    if (size[0] != fig.canvas.width || size[1] != fig.canvas.height) {\n",
       "        fig._resize_canvas(size[0], size[1]);\n",
       "        fig.send_message(\"refresh\", {});\n",
       "    };\n",
       "}\n",
       "\n",
       "mpl.figure.prototype.handle_rubberband = function(fig, msg) {\n",
       "    var x0 = msg['x0'] / mpl.ratio;\n",
       "    var y0 = (fig.canvas.height - msg['y0']) / mpl.ratio;\n",
       "    var x1 = msg['x1'] / mpl.ratio;\n",
       "    var y1 = (fig.canvas.height - msg['y1']) / mpl.ratio;\n",
       "    x0 = Math.floor(x0) + 0.5;\n",
       "    y0 = Math.floor(y0) + 0.5;\n",
       "    x1 = Math.floor(x1) + 0.5;\n",
       "    y1 = Math.floor(y1) + 0.5;\n",
       "    var min_x = Math.min(x0, x1);\n",
       "    var min_y = Math.min(y0, y1);\n",
       "    var width = Math.abs(x1 - x0);\n",
       "    var height = Math.abs(y1 - y0);\n",
       "\n",
       "    fig.rubberband_context.clearRect(\n",
       "        0, 0, fig.canvas.width / mpl.ratio, fig.canvas.height / mpl.ratio);\n",
       "\n",
       "    fig.rubberband_context.strokeRect(min_x, min_y, width, height);\n",
       "}\n",
       "\n",
       "mpl.figure.prototype.handle_figure_label = function(fig, msg) {\n",
       "    // Updates the figure title.\n",
       "    fig.header.textContent = msg['label'];\n",
       "}\n",
       "\n",
       "mpl.figure.prototype.handle_cursor = function(fig, msg) {\n",
       "    var cursor = msg['cursor'];\n",
       "    switch(cursor)\n",
       "    {\n",
       "    case 0:\n",
       "        cursor = 'pointer';\n",
       "        break;\n",
       "    case 1:\n",
       "        cursor = 'default';\n",
       "        break;\n",
       "    case 2:\n",
       "        cursor = 'crosshair';\n",
       "        break;\n",
       "    case 3:\n",
       "        cursor = 'move';\n",
       "        break;\n",
       "    }\n",
       "    fig.rubberband_canvas.style.cursor = cursor;\n",
       "}\n",
       "\n",
       "mpl.figure.prototype.handle_message = function(fig, msg) {\n",
       "    fig.message.textContent = msg['message'];\n",
       "}\n",
       "\n",
       "mpl.figure.prototype.handle_draw = function(fig, msg) {\n",
       "    // Request the server to send over a new figure.\n",
       "    fig.send_draw_message();\n",
       "}\n",
       "\n",
       "mpl.figure.prototype.handle_image_mode = function(fig, msg) {\n",
       "    fig.image_mode = msg['mode'];\n",
       "}\n",
       "\n",
       "mpl.figure.prototype.updated_canvas_event = function() {\n",
       "    // Called whenever the canvas gets updated.\n",
       "    this.send_message(\"ack\", {});\n",
       "}\n",
       "\n",
       "// A function to construct a web socket function for onmessage handling.\n",
       "// Called in the figure constructor.\n",
       "mpl.figure.prototype._make_on_message_function = function(fig) {\n",
       "    return function socket_on_message(evt) {\n",
       "        if (evt.data instanceof Blob) {\n",
       "            /* FIXME: We get \"Resource interpreted as Image but\n",
       "             * transferred with MIME type text/plain:\" errors on\n",
       "             * Chrome.  But how to set the MIME type?  It doesn't seem\n",
       "             * to be part of the websocket stream */\n",
       "            evt.data.type = \"image/png\";\n",
       "\n",
       "            /* Free the memory for the previous frames */\n",
       "            if (fig.imageObj.src) {\n",
       "                (window.URL || window.webkitURL).revokeObjectURL(\n",
       "                    fig.imageObj.src);\n",
       "            }\n",
       "\n",
       "            fig.imageObj.src = (window.URL || window.webkitURL).createObjectURL(\n",
       "                evt.data);\n",
       "            fig.updated_canvas_event();\n",
       "            fig.waiting = false;\n",
       "            return;\n",
       "        }\n",
       "        else if (typeof evt.data === 'string' && evt.data.slice(0, 21) == \"data:image/png;base64\") {\n",
       "            fig.imageObj.src = evt.data;\n",
       "            fig.updated_canvas_event();\n",
       "            fig.waiting = false;\n",
       "            return;\n",
       "        }\n",
       "\n",
       "        var msg = JSON.parse(evt.data);\n",
       "        var msg_type = msg['type'];\n",
       "\n",
       "        // Call the  \"handle_{type}\" callback, which takes\n",
       "        // the figure and JSON message as its only arguments.\n",
       "        try {\n",
       "            var callback = fig[\"handle_\" + msg_type];\n",
       "        } catch (e) {\n",
       "            console.log(\"No handler for the '\" + msg_type + \"' message type: \", msg);\n",
       "            return;\n",
       "        }\n",
       "\n",
       "        if (callback) {\n",
       "            try {\n",
       "                // console.log(\"Handling '\" + msg_type + \"' message: \", msg);\n",
       "                callback(fig, msg);\n",
       "            } catch (e) {\n",
       "                console.log(\"Exception inside the 'handler_\" + msg_type + \"' callback:\", e, e.stack, msg);\n",
       "            }\n",
       "        }\n",
       "    };\n",
       "}\n",
       "\n",
       "// from http://stackoverflow.com/questions/1114465/getting-mouse-location-in-canvas\n",
       "mpl.findpos = function(e) {\n",
       "    //this section is from http://www.quirksmode.org/js/events_properties.html\n",
       "    var targ;\n",
       "    if (!e)\n",
       "        e = window.event;\n",
       "    if (e.target)\n",
       "        targ = e.target;\n",
       "    else if (e.srcElement)\n",
       "        targ = e.srcElement;\n",
       "    if (targ.nodeType == 3) // defeat Safari bug\n",
       "        targ = targ.parentNode;\n",
       "\n",
       "    // jQuery normalizes the pageX and pageY\n",
       "    // pageX,Y are the mouse positions relative to the document\n",
       "    // offset() returns the position of the element relative to the document\n",
       "    var x = e.pageX - $(targ).offset().left;\n",
       "    var y = e.pageY - $(targ).offset().top;\n",
       "\n",
       "    return {\"x\": x, \"y\": y};\n",
       "};\n",
       "\n",
       "/*\n",
       " * return a copy of an object with only non-object keys\n",
       " * we need this to avoid circular references\n",
       " * http://stackoverflow.com/a/24161582/3208463\n",
       " */\n",
       "function simpleKeys (original) {\n",
       "  return Object.keys(original).reduce(function (obj, key) {\n",
       "    if (typeof original[key] !== 'object')\n",
       "        obj[key] = original[key]\n",
       "    return obj;\n",
       "  }, {});\n",
       "}\n",
       "\n",
       "mpl.figure.prototype.mouse_event = function(event, name) {\n",
       "    var canvas_pos = mpl.findpos(event)\n",
       "\n",
       "    if (name === 'button_press')\n",
       "    {\n",
       "        this.canvas.focus();\n",
       "        this.canvas_div.focus();\n",
       "    }\n",
       "\n",
       "    var x = canvas_pos.x * mpl.ratio;\n",
       "    var y = canvas_pos.y * mpl.ratio;\n",
       "\n",
       "    this.send_message(name, {x: x, y: y, button: event.button,\n",
       "                             step: event.step,\n",
       "                             guiEvent: simpleKeys(event)});\n",
       "\n",
       "    /* This prevents the web browser from automatically changing to\n",
       "     * the text insertion cursor when the button is pressed.  We want\n",
       "     * to control all of the cursor setting manually through the\n",
       "     * 'cursor' event from matplotlib */\n",
       "    event.preventDefault();\n",
       "    return false;\n",
       "}\n",
       "\n",
       "mpl.figure.prototype._key_event_extra = function(event, name) {\n",
       "    // Handle any extra behaviour associated with a key event\n",
       "}\n",
       "\n",
       "mpl.figure.prototype.key_event = function(event, name) {\n",
       "\n",
       "    // Prevent repeat events\n",
       "    if (name == 'key_press')\n",
       "    {\n",
       "        if (event.which === this._key)\n",
       "            return;\n",
       "        else\n",
       "            this._key = event.which;\n",
       "    }\n",
       "    if (name == 'key_release')\n",
       "        this._key = null;\n",
       "\n",
       "    var value = '';\n",
       "    if (event.ctrlKey && event.which != 17)\n",
       "        value += \"ctrl+\";\n",
       "    if (event.altKey && event.which != 18)\n",
       "        value += \"alt+\";\n",
       "    if (event.shiftKey && event.which != 16)\n",
       "        value += \"shift+\";\n",
       "\n",
       "    value += 'k';\n",
       "    value += event.which.toString();\n",
       "\n",
       "    this._key_event_extra(event, name);\n",
       "\n",
       "    this.send_message(name, {key: value,\n",
       "                             guiEvent: simpleKeys(event)});\n",
       "    return false;\n",
       "}\n",
       "\n",
       "mpl.figure.prototype.toolbar_button_onclick = function(name) {\n",
       "    if (name == 'download') {\n",
       "        this.handle_save(this, null);\n",
       "    } else {\n",
       "        this.send_message(\"toolbar_button\", {name: name});\n",
       "    }\n",
       "};\n",
       "\n",
       "mpl.figure.prototype.toolbar_button_onmouseover = function(tooltip) {\n",
       "    this.message.textContent = tooltip;\n",
       "};\n",
       "mpl.toolbar_items = [[\"Home\", \"Reset original view\", \"fa fa-home icon-home\", \"home\"], [\"Back\", \"Back to previous view\", \"fa fa-arrow-left icon-arrow-left\", \"back\"], [\"Forward\", \"Forward to next view\", \"fa fa-arrow-right icon-arrow-right\", \"forward\"], [\"\", \"\", \"\", \"\"], [\"Pan\", \"Pan axes with left mouse, zoom with right\", \"fa fa-arrows icon-move\", \"pan\"], [\"Zoom\", \"Zoom to rectangle\", \"fa fa-square-o icon-check-empty\", \"zoom\"], [\"\", \"\", \"\", \"\"], [\"Download\", \"Download plot\", \"fa fa-floppy-o icon-save\", \"download\"]];\n",
       "\n",
       "mpl.extensions = [\"eps\", \"pdf\", \"png\", \"ps\", \"raw\", \"svg\"];\n",
       "\n",
       "mpl.default_extension = \"png\";var comm_websocket_adapter = function(comm) {\n",
       "    // Create a \"websocket\"-like object which calls the given IPython comm\n",
       "    // object with the appropriate methods. Currently this is a non binary\n",
       "    // socket, so there is still some room for performance tuning.\n",
       "    var ws = {};\n",
       "\n",
       "    ws.close = function() {\n",
       "        comm.close()\n",
       "    };\n",
       "    ws.send = function(m) {\n",
       "        //console.log('sending', m);\n",
       "        comm.send(m);\n",
       "    };\n",
       "    // Register the callback with on_msg.\n",
       "    comm.on_msg(function(msg) {\n",
       "        //console.log('receiving', msg['content']['data'], msg);\n",
       "        // Pass the mpl event to the overridden (by mpl) onmessage function.\n",
       "        ws.onmessage(msg['content']['data'])\n",
       "    });\n",
       "    return ws;\n",
       "}\n",
       "\n",
       "mpl.mpl_figure_comm = function(comm, msg) {\n",
       "    // This is the function which gets called when the mpl process\n",
       "    // starts-up an IPython Comm through the \"matplotlib\" channel.\n",
       "\n",
       "    var id = msg.content.data.id;\n",
       "    // Get hold of the div created by the display call when the Comm\n",
       "    // socket was opened in Python.\n",
       "    var element = $(\"#\" + id);\n",
       "    var ws_proxy = comm_websocket_adapter(comm)\n",
       "\n",
       "    function ondownload(figure, format) {\n",
       "        window.open(figure.imageObj.src);\n",
       "    }\n",
       "\n",
       "    var fig = new mpl.figure(id, ws_proxy,\n",
       "                           ondownload,\n",
       "                           element.get(0));\n",
       "\n",
       "    // Call onopen now - mpl needs it, as it is assuming we've passed it a real\n",
       "    // web socket which is closed, not our websocket->open comm proxy.\n",
       "    ws_proxy.onopen();\n",
       "\n",
       "    fig.parent_element = element.get(0);\n",
       "    fig.cell_info = mpl.find_output_cell(\"<div id='\" + id + \"'></div>\");\n",
       "    if (!fig.cell_info) {\n",
       "        console.error(\"Failed to find cell for figure\", id, fig);\n",
       "        return;\n",
       "    }\n",
       "\n",
       "    var output_index = fig.cell_info[2]\n",
       "    var cell = fig.cell_info[0];\n",
       "\n",
       "};\n",
       "\n",
       "mpl.figure.prototype.handle_close = function(fig, msg) {\n",
       "    var width = fig.canvas.width/mpl.ratio\n",
       "    fig.root.unbind('remove')\n",
       "\n",
       "    // Update the output cell to use the data from the current canvas.\n",
       "    fig.push_to_output();\n",
       "    var dataURL = fig.canvas.toDataURL();\n",
       "    // Re-enable the keyboard manager in IPython - without this line, in FF,\n",
       "    // the notebook keyboard shortcuts fail.\n",
       "    IPython.keyboard_manager.enable()\n",
       "    $(fig.parent_element).html('<img src=\"' + dataURL + '\" width=\"' + width + '\">');\n",
       "    fig.close_ws(fig, msg);\n",
       "}\n",
       "\n",
       "mpl.figure.prototype.close_ws = function(fig, msg){\n",
       "    fig.send_message('closing', msg);\n",
       "    // fig.ws.close()\n",
       "}\n",
       "\n",
       "mpl.figure.prototype.push_to_output = function(remove_interactive) {\n",
       "    // Turn the data on the canvas into data in the output cell.\n",
       "    var width = this.canvas.width/mpl.ratio\n",
       "    var dataURL = this.canvas.toDataURL();\n",
       "    this.cell_info[1]['text/html'] = '<img src=\"' + dataURL + '\" width=\"' + width + '\">';\n",
       "}\n",
       "\n",
       "mpl.figure.prototype.updated_canvas_event = function() {\n",
       "    // Tell IPython that the notebook contents must change.\n",
       "    IPython.notebook.set_dirty(true);\n",
       "    this.send_message(\"ack\", {});\n",
       "    var fig = this;\n",
       "    // Wait a second, then push the new image to the DOM so\n",
       "    // that it is saved nicely (might be nice to debounce this).\n",
       "    setTimeout(function () { fig.push_to_output() }, 1000);\n",
       "}\n",
       "\n",
       "mpl.figure.prototype._init_toolbar = function() {\n",
       "    var fig = this;\n",
       "\n",
       "    var nav_element = $('<div/>');\n",
       "    nav_element.attr('style', 'width: 100%');\n",
       "    this.root.append(nav_element);\n",
       "\n",
       "    // Define a callback function for later on.\n",
       "    function toolbar_event(event) {\n",
       "        return fig.toolbar_button_onclick(event['data']);\n",
       "    }\n",
       "    function toolbar_mouse_event(event) {\n",
       "        return fig.toolbar_button_onmouseover(event['data']);\n",
       "    }\n",
       "\n",
       "    for(var toolbar_ind in mpl.toolbar_items){\n",
       "        var name = mpl.toolbar_items[toolbar_ind][0];\n",
       "        var tooltip = mpl.toolbar_items[toolbar_ind][1];\n",
       "        var image = mpl.toolbar_items[toolbar_ind][2];\n",
       "        var method_name = mpl.toolbar_items[toolbar_ind][3];\n",
       "\n",
       "        if (!name) { continue; };\n",
       "\n",
       "        var button = $('<button class=\"btn btn-default\" href=\"#\" title=\"' + name + '\"><i class=\"fa ' + image + ' fa-lg\"></i></button>');\n",
       "        button.click(method_name, toolbar_event);\n",
       "        button.mouseover(tooltip, toolbar_mouse_event);\n",
       "        nav_element.append(button);\n",
       "    }\n",
       "\n",
       "    // Add the status bar.\n",
       "    var status_bar = $('<span class=\"mpl-message\" style=\"text-align:right; float: right;\"/>');\n",
       "    nav_element.append(status_bar);\n",
       "    this.message = status_bar[0];\n",
       "\n",
       "    // Add the close button to the window.\n",
       "    var buttongrp = $('<div class=\"btn-group inline pull-right\"></div>');\n",
       "    var button = $('<button class=\"btn btn-mini btn-primary\" href=\"#\" title=\"Stop Interaction\"><i class=\"fa fa-power-off icon-remove icon-large\"></i></button>');\n",
       "    button.click(function (evt) { fig.handle_close(fig, {}); } );\n",
       "    button.mouseover('Stop Interaction', toolbar_mouse_event);\n",
       "    buttongrp.append(button);\n",
       "    var titlebar = this.root.find($('.ui-dialog-titlebar'));\n",
       "    titlebar.prepend(buttongrp);\n",
       "}\n",
       "\n",
       "mpl.figure.prototype._root_extra_style = function(el){\n",
       "    var fig = this\n",
       "    el.on(\"remove\", function(){\n",
       "\tfig.close_ws(fig, {});\n",
       "    });\n",
       "}\n",
       "\n",
       "mpl.figure.prototype._canvas_extra_style = function(el){\n",
       "    // this is important to make the div 'focusable\n",
       "    el.attr('tabindex', 0)\n",
       "    // reach out to IPython and tell the keyboard manager to turn it's self\n",
       "    // off when our div gets focus\n",
       "\n",
       "    // location in version 3\n",
       "    if (IPython.notebook.keyboard_manager) {\n",
       "        IPython.notebook.keyboard_manager.register_events(el);\n",
       "    }\n",
       "    else {\n",
       "        // location in version 2\n",
       "        IPython.keyboard_manager.register_events(el);\n",
       "    }\n",
       "\n",
       "}\n",
       "\n",
       "mpl.figure.prototype._key_event_extra = function(event, name) {\n",
       "    var manager = IPython.notebook.keyboard_manager;\n",
       "    if (!manager)\n",
       "        manager = IPython.keyboard_manager;\n",
       "\n",
       "    // Check for shift+enter\n",
       "    if (event.shiftKey && event.which == 13) {\n",
       "        this.canvas_div.blur();\n",
       "        // select the cell after this one\n",
       "        var index = IPython.notebook.find_cell_index(this.cell_info[0]);\n",
       "        IPython.notebook.select(index + 1);\n",
       "    }\n",
       "}\n",
       "\n",
       "mpl.figure.prototype.handle_save = function(fig, msg) {\n",
       "    fig.ondownload(fig, null);\n",
       "}\n",
       "\n",
       "\n",
       "mpl.find_output_cell = function(html_output) {\n",
       "    // Return the cell and output element which can be found *uniquely* in the notebook.\n",
       "    // Note - this is a bit hacky, but it is done because the \"notebook_saving.Notebook\"\n",
       "    // IPython event is triggered only after the cells have been serialised, which for\n",
       "    // our purposes (turning an active figure into a static one), is too late.\n",
       "    var cells = IPython.notebook.get_cells();\n",
       "    var ncells = cells.length;\n",
       "    for (var i=0; i<ncells; i++) {\n",
       "        var cell = cells[i];\n",
       "        if (cell.cell_type === 'code'){\n",
       "            for (var j=0; j<cell.output_area.outputs.length; j++) {\n",
       "                var data = cell.output_area.outputs[j];\n",
       "                if (data.data) {\n",
       "                    // IPython >= 3 moved mimebundle to data attribute of output\n",
       "                    data = data.data;\n",
       "                }\n",
       "                if (data['text/html'] == html_output) {\n",
       "                    return [cell, data, j];\n",
       "                }\n",
       "            }\n",
       "        }\n",
       "    }\n",
       "}\n",
       "\n",
       "// Register the function which deals with the matplotlib target/channel.\n",
       "// The kernel may be null if the page has been refreshed.\n",
       "if (IPython.notebook.kernel != null) {\n",
       "    IPython.notebook.kernel.comm_manager.register_target('matplotlib', mpl.mpl_figure_comm);\n",
       "}\n"
      ],
      "text/plain": [
       "<IPython.core.display.Javascript object>"
      ]
     },
     "metadata": {},
     "output_type": "display_data"
    },
    {
     "data": {
      "text/html": [
       "<img src=\"data:image/png;base64,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\" width=\"300\">"
      ],
      "text/plain": [
       "<IPython.core.display.HTML object>"
      ]
     },
     "metadata": {},
     "output_type": "display_data"
    }
   ],
   "source": [
    "plt.style.use('seaborn-white')\n",
    "\n",
    "fig = plt.figure()\n",
    "fig.suptitle('Corona Cases and Number of Deaths in each State in Germany\\n(data available until 20.3.2020)', fontsize=20,\n",
    "            weight='bold')\n",
    "fig.set_size_inches(3, 3, forward=True)\n",
    "\n",
    "plt.scatter(df['states'].values, df['num_of_cases'].values, s=100*df['num_of_death'].values, label='num_of_death',\n",
    "           c='red')\n",
    "\n",
    "plt.ylabel('Number of Cases', fontsize=15)\n",
    "plt.xlabel('States', fontsize=15)\n",
    "plt.gca()\n",
    "\n",
    "# plt.grid()\n",
    "# plt.gca().set_ylim(0)\n",
    "plt.xticks(rotation=20, fontsize=7.5)\n",
    "\n",
    "plt.yscale('symlog')\n",
    "plt.ylim(100, 6000)\n",
    "\n",
    "plt.legend(loc=\"upper right\", fontsize=12, markerscale=0.2)\n",
    "plt.savefig(\"cases.png\")\n",
    "plt.show()"
   ]
  },
  {
   "cell_type": "code",
   "execution_count": null,
   "metadata": {
    "extensions": {
     "jupyter_dashboards": {
      "version": 1,
      "views": {
       "grid_default": {},
       "report_default": {}
      }
     }
    }
   },
   "outputs": [],
   "source": [
    "\n",
    "\n",
    "# Utils widgets\n",
    "from ipywidgets import Button, Layout, jslink, IntText, IntSlider\n",
    "\n",
    "def create_expanded_button(description, button_style):\n",
    "    return Button(description=description, button_style=button_style, layout=Layout(height='auto', width='auto'))\n",
    "\n",
    "top_left_button = create_expanded_button(\"Top left\", 'info')\n",
    "top_right_button = create_expanded_button(\"Top right\", 'success')\n",
    "bottom_left_button = create_expanded_button(\"Bottom left\", 'danger')\n",
    "bottom_right_button = create_expanded_button(\"Bottom right\", 'warning')\n",
    "\n",
    "top_left_text = IntText(description='Top left', layout=Layout(width='auto', height='auto'))\n",
    "top_right_text = IntText(description='Top right', layout=Layout(width='auto', height='auto'))\n",
    "bottom_left_slider = IntSlider(description='Bottom left', layout=Layout(width='auto', height='auto'))\n",
    "bottom_right_slider = IntSlider(description='Bottom right', layout=Layout(width='auto', height='auto'))\n",
    "\n"
   ]
  },
  {
   "cell_type": "code",
   "execution_count": null,
   "metadata": {
    "extensions": {
     "jupyter_dashboards": {
      "version": 1,
      "views": {
       "grid_default": {},
       "report_default": {}
      }
     }
    }
   },
   "outputs": [],
   "source": [
    "\n",
    "from ipywidgets import AppLayout, Button, Layout\n",
    "\n",
    "\n",
    "\n",
    "header_button = create_expanded_button('Header', 'success')\n",
    "left_button = create_expanded_button('Left', 'info')\n",
    "center_button = create_expanded_button('Center', 'warning')\n",
    "right_button = create_expanded_button('Right', 'info')\n",
    "footer_button = create_expanded_button('Footer', 'success')\n",
    "\n",
    "AppLayout(header=header_button,\n",
    "          left_sidebar=left_button,\n",
    "          center=center_button,\n",
    "          right_sidebar=right_button,\n",
    "          footer=footer_button)"
   ]
  },
  {
   "cell_type": "code",
   "execution_count": null,
   "metadata": {
    "extensions": {
     "jupyter_dashboards": {
      "version": 1,
      "views": {
       "grid_default": {},
       "report_default": {
        "hidden": true
       }
      }
     }
    }
   },
   "outputs": [],
   "source": [
    "file = pd.read_csv(\"RKI_COVID19.csv\")"
   ]
  },
  {
   "cell_type": "code",
   "execution_count": null,
   "metadata": {
    "extensions": {
     "jupyter_dashboards": {
      "version": 1,
      "views": {
       "grid_default": {},
       "report_default": {
        "hidden": false
       }
      }
     }
    }
   },
   "outputs": [],
   "source": [
    "file.head()"
   ]
  },
  {
   "cell_type": "code",
   "execution_count": null,
   "metadata": {
    "extensions": {
     "jupyter_dashboards": {
      "version": 1,
      "views": {
       "grid_default": {},
       "report_default": {
        "hidden": true
       }
      }
     }
    }
   },
   "outputs": [],
   "source": [
    "m = file[file['Geschlecht']=='M'].count().unique()\n",
    "w = file[file['Geschlecht']=='W'].count().unique()\n",
    "u = file[file['Geschlecht']=='unbekannt'].count().unique()"
   ]
  },
  {
   "cell_type": "code",
   "execution_count": null,
   "metadata": {
    "extensions": {
     "jupyter_dashboards": {
      "version": 1,
      "views": {
       "grid_default": {},
       "report_default": {
        "hidden": true
       }
      }
     }
    }
   },
   "outputs": [],
   "source": [
    "w = np.asscalar(w)\n",
    "m = np.asscalar(m)\n",
    "u = np.asscalar(u)"
   ]
  },
  {
   "cell_type": "code",
   "execution_count": null,
   "metadata": {
    "extensions": {
     "jupyter_dashboards": {
      "version": 1,
      "views": {
       "grid_default": {},
       "report_default": {
        "hidden": true
       }
      }
     }
    }
   },
   "outputs": [],
   "source": [
    "print(\"num of female: \", w)\n",
    "print(\"\\nnum of male: \", m)\n",
    "print(\"\\nnum of unknown: \", u)"
   ]
  },
  {
   "cell_type": "code",
   "execution_count": null,
   "metadata": {
    "extensions": {
     "jupyter_dashboards": {
      "version": 1,
      "views": {
       "grid_default": {},
       "report_default": {
        "hidden": true
       }
      }
     }
    }
   },
   "outputs": [],
   "source": [
    "def perc(gender):\n",
    "    if gender == 'w':\n",
    "        percentage = (w*100)/(len(file.index))\n",
    "        percentage = np.round_(percentage, decimals=2)\n",
    "\n",
    "    elif gender == 'm':\n",
    "        percentage = (m*100)/(len(file.index))\n",
    "        percentage = np.round_(percentage, decimals=2)\n",
    "\n",
    "    else:\n",
    "        percentage = (u*100)/(len(file.index))\n",
    "        percentage = np.round_(percentage, decimals=2)\n",
    "    return percentage\n",
    "    \n",
    "\n",
    "female_percentage = perc('w')\n",
    "male_percentage = perc('m')\n",
    "unknown_percentage = perc('u')"
   ]
  },
  {
   "cell_type": "code",
   "execution_count": null,
   "metadata": {
    "extensions": {
     "jupyter_dashboards": {
      "version": 1,
      "views": {
       "grid_default": {},
       "report_default": {
        "hidden": false
       }
      }
     }
    }
   },
   "outputs": [],
   "source": [
    "labels = ['female', 'male', 'unknown']\n",
    "sizes = [female_percentage, male_percentage, unknown_percentage]\n",
    "colors = ['yellowgreen', 'lightcoral', 'lightskyblue']\n",
    "\n",
    "\n",
    "fig, ax = plt.subplots()\n",
    "ax.set_title('Corona Gender Portion\\n(data available until 20.03.2020)', fontsize=20, weight='bold')\n",
    "fig.set_size_inches(14, 7, forward=True)\n",
    "\n",
    "wedges, texts, autotexts = ax.pie(sizes, autopct='%1.1f%%', startangle=45, colors=colors)\n",
    "\n",
    "legend = ax.legend(wedges, labels,\n",
    "          title=\"Gender\",\n",
    "          loc=\"center left\",\n",
    "          bbox_to_anchor=(0.9, 0, 0, 1), fontsize=14)\n",
    "\n",
    "plt.setp(autotexts, size=12, weight=\"bold\")\n",
    "legend.get_title().set_fontsize('16') \n",
    "\n",
    "ax.axis('equal')  \n",
    "plt.savefig(\"gender.png\")\n",
    "\n",
    "plt.show()"
   ]
  },
  {
   "cell_type": "code",
   "execution_count": null,
   "metadata": {
    "extensions": {
     "jupyter_dashboards": {
      "version": 1,
      "views": {
       "grid_default": {},
       "report_default": {
        "hidden": true
       }
      }
     }
    }
   },
   "outputs": [],
   "source": [
    "age = file['Altersgruppe'].unique()\n",
    "age"
   ]
  },
  {
   "cell_type": "code",
   "execution_count": null,
   "metadata": {
    "extensions": {
     "jupyter_dashboards": {
      "version": 1,
      "views": {
       "grid_default": {},
       "report_default": {
        "hidden": true
       }
      }
     }
    }
   },
   "outputs": [],
   "source": [
    "g0_4 = file[file['Altersgruppe']=='A00-A04'].filter(items=['AnzahlFall']).sum()\n",
    "g0_4 = np.asscalar(g0_4)\n",
    "g5_14 = file[file['Altersgruppe']=='A05-A14'].filter(items=['AnzahlFall']).sum()\n",
    "g5_14 = np.asscalar(g5_14)\n",
    "g15_34 = file[file['Altersgruppe']=='A15-A34'].filter(items=['AnzahlFall']).sum()\n",
    "g15_34 = np.asscalar(g15_34)\n",
    "g35_59 = file[file['Altersgruppe']=='A35-A59'].filter(items=['AnzahlFall']).sum()\n",
    "g35_59 = np.asscalar(g35_59)\n",
    "g60_79 = file[file['Altersgruppe']=='A60-A79'].filter(items=['AnzahlFall']).sum()\n",
    "g60_79 = np.asscalar(g60_79)\n",
    "g80 = file[file['Altersgruppe']=='A80+'].filter(items=['AnzahlFall']).sum()\n",
    "g80 = np.asscalar(g80)\n",
    "unknown = file[file['Altersgruppe']=='unbekannt'].filter(items=['AnzahlFall']).sum()\n",
    "unknown = np.asscalar(unknown)\n",
    "\n",
    "height1 = [g0_4,g5_14,g15_34,g35_59,g60_79,g80,unknown]"
   ]
  },
  {
   "cell_type": "code",
   "execution_count": null,
   "metadata": {
    "extensions": {
     "jupyter_dashboards": {
      "version": 1,
      "views": {
       "grid_default": {},
       "report_default": {
        "hidden": true
       }
      }
     }
    }
   },
   "outputs": [],
   "source": [
    "g0_4 = file[file['Altersgruppe']=='A00-A04'].filter(items=['AnzahlTodesfall']).sum()\n",
    "g0_4 = np.asscalar(g0_4)\n",
    "g5_14 = file[file['Altersgruppe']=='A05-A14'].filter(items=['AnzahlTodesfall']).sum()\n",
    "g5_14 = np.asscalar(g5_14)\n",
    "g15_34 = file[file['Altersgruppe']=='A15-A34'].filter(items=['AnzahlTodesfall']).sum()\n",
    "g15_34 = np.asscalar(g15_34)\n",
    "g35_59 = file[file['Altersgruppe']=='A35-A59'].filter(items=['AnzahlTodesfall']).sum()\n",
    "g35_59 = np.asscalar(g35_59)\n",
    "g60_79 = file[file['Altersgruppe']=='A60-A79'].filter(items=['AnzahlTodesfall']).sum()\n",
    "g60_79 = np.asscalar(g60_79)\n",
    "g80 = file[file['Altersgruppe']=='A80+'].filter(items=['AnzahlTodesfall']).sum()\n",
    "g80 = np.asscalar(g80)\n",
    "unknown = file[file['Altersgruppe']=='unbekannt'].filter(items=['AnzahlTodesfall']).sum()\n",
    "unknown = np.asscalar(unknown)\n",
    "\n",
    "height2 = [g0_4,g5_14,g15_34,g35_59,g60_79,g80,unknown]"
   ]
  },
  {
   "cell_type": "code",
   "execution_count": null,
   "metadata": {
    "extensions": {
     "jupyter_dashboards": {
      "version": 1,
      "views": {
       "grid_default": {},
       "report_default": {
        "hidden": false
       }
      }
     }
    }
   },
   "outputs": [],
   "source": [
    "fig = plt.figure()\n",
    "fig.set_size_inches(14,7, forward=True)\n",
    "fig.suptitle(\"Comparison between Age of current Patients and Deads\\n(data available until 20.03.2020)\", fontsize=20, weight='bold')\n",
    "\n",
    "bar_width = 0.7\n",
    "\n",
    "plt.bar(x=np.sort(file['Altersgruppe'].unique()), height=height1, width=bar_width, color='green', label='patients')\n",
    "\n",
    "plt.bar(x=np.sort(file['Altersgruppe'].unique()), height=height2, width=bar_width, color='orange', label= 'dead')\n",
    "\n",
    "plt.ylabel('Number', fontsize=15)\n",
    "plt.xlabel('Age Groups', fontsize=15)\n",
    "plt.gca()\n",
    "\n",
    "plt.xticks(rotation=20, fontsize=12)\n",
    "\n",
    "# plt.yscale('log')\n",
    "# plt.ylim(0, 5000)\n",
    "\n",
    "plt.legend(loc=\"upper right\", fontsize=12, markerscale=0.2)\n",
    "plt.savefig(\"patients_vs_dead.png\")\n",
    "plt.show()"
   ]
  },
  {
   "cell_type": "code",
   "execution_count": null,
   "metadata": {
    "extensions": {
     "jupyter_dashboards": {
      "version": 1,
      "views": {
       "grid_default": {},
       "report_default": {
        "hidden": true
       }
      }
     }
    }
   },
   "outputs": [],
   "source": [
    "file['Bundesland'].nunique()"
   ]
  },
  {
   "cell_type": "code",
   "execution_count": null,
   "metadata": {
    "extensions": {
     "jupyter_dashboards": {
      "version": 1,
      "views": {
       "grid_default": {},
       "report_default": {
        "hidden": true
       }
      }
     }
    }
   },
   "outputs": [],
   "source": [
    "file['Meldedatum'] = pd.to_datetime(file['Meldedatum'])"
   ]
  },
  {
   "cell_type": "code",
   "execution_count": null,
   "metadata": {
    "extensions": {
     "jupyter_dashboards": {
      "version": 1,
      "views": {
       "grid_default": {},
       "report_default": {
        "hidden": true
       }
      }
     }
    }
   },
   "outputs": [],
   "source": [
    "file['Date'] = file['Meldedatum'].dt.date"
   ]
  },
  {
   "cell_type": "code",
   "execution_count": null,
   "metadata": {
    "extensions": {
     "jupyter_dashboards": {
      "version": 1,
      "views": {
       "grid_default": {},
       "report_default": {
        "hidden": true
       }
      }
     }
    }
   },
   "outputs": [],
   "source": [
    "# date_table_agg = file.groupby(['Bundesland','Date']).agg(['sum']).reset_index()\n",
    "# date_table_agg = date_table_agg.drop(['Lat','Long'],1)\n",
    "table = file.groupby(['Bundesland','Date'])['AnzahlFall'].sum().reset_index()"
   ]
  },
  {
   "cell_type": "code",
   "execution_count": null,
   "metadata": {
    "extensions": {
     "jupyter_dashboards": {
      "version": 1,
      "views": {
       "grid_default": {},
       "report_default": {
        "hidden": true
       }
      }
     }
    }
   },
   "outputs": [],
   "source": [
    "table"
   ]
  },
  {
   "cell_type": "code",
   "execution_count": null,
   "metadata": {
    "extensions": {
     "jupyter_dashboards": {
      "version": 1,
      "views": {
       "grid_default": {},
       "report_default": {
        "hidden": true
       }
      }
     }
    }
   },
   "outputs": [],
   "source": [
    "states_pivot_table = pd.pivot_table(table, values='AnzahlFall', columns=['Date'], index=['Bundesland'])\n",
    "states_pivot_table"
   ]
  },
  {
   "cell_type": "code",
   "execution_count": null,
   "metadata": {
    "extensions": {
     "jupyter_dashboards": {
      "version": 1,
      "views": {
       "grid_default": {},
       "report_default": {
        "hidden": false
       }
      }
     }
    }
   },
   "outputs": [],
   "source": [
    "plt.style.use('seaborn-white')\n",
    "fig, ax = plt.subplots(figsize=(14,7))        \n",
    "ax.set_title(\"Corona Cases in States of Germany \\n(data available until 20.03.2020)\", size=20, weight='bold')\n",
    "sns.set(font_scale=1.2)\n",
    "\n",
    "ax = sns.heatmap(states_pivot_table, cmap='plasma', ax=ax, cbar_kws={'label': 'Number of Patients'})\n",
    "borders = range(1,18)\n",
    "ax.hlines(borders[:], color='white', *ax.get_xlim())\n",
    "\n",
    "plt.subplots_adjust(left=0.16, bottom=0.12, top=0.9)\n",
    "ax.set_xlabel('Timestamp',fontsize=18)\n",
    "ax.set_ylabel('States',fontsize=18)\n",
    "\n",
    "plt.savefig(\"heatmap.png\")\n"
   ]
  },
  {
   "cell_type": "code",
   "execution_count": null,
   "metadata": {
    "extensions": {
     "jupyter_dashboards": {
      "version": 1,
      "views": {
       "grid_default": {},
       "report_default": {
        "hidden": true
       }
      }
     }
    }
   },
   "outputs": [],
   "source": []
  }
 ],
 "metadata": {
  "extensions": {
   "jupyter_dashboards": {
    "activeView": "grid_default",
    "version": 1,
    "views": {
     "grid_default": {
      "cellMargin": 10,
      "defaultCellHeight": 20,
      "maxColumns": 12,
      "name": "grid",
      "type": "grid"
     },
     "report_default": {
      "name": "report",
      "type": "report"
     }
    }
   }
  },
  "kernelspec": {
   "display_name": "Python 3",
   "language": "python",
   "name": "python3"
  },
  "language_info": {
   "codemirror_mode": {
    "name": "ipython",
    "version": 3
   },
   "file_extension": ".py",
   "mimetype": "text/x-python",
   "name": "python",
   "nbconvert_exporter": "python",
   "pygments_lexer": "ipython3",
   "version": "3.6.6"
  }
 },
 "nbformat": 4,
 "nbformat_minor": 4
}
